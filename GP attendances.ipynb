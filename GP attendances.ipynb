{
 "cells": [
  {
   "cell_type": "markdown",
   "metadata": {},
   "source": [
    "## Exploratory analysis on the effects of pandemic on visits to primary care and emergency services \n",
    "\n",
    "In this project, I am going to determine if GP attendances have dropped during the pandemic in more deprived areas (CCGs) or areas with greater percentage of over 65-year-olds. The project is aimed to better understand the extent to which there is inequality with regards to which patients have not been referred over the course of the pandemic.\n",
    "\n",
    "The cancer policy team wants us to focus on answering the following questions:\n",
    "* Have GP attendances dropped more in more deprived CCGs? \n",
    "    * Is there a correlation between GP attendances and deprivation?\n",
    "* Have GP attendances dropped by age groups over 65?\n",
    "    * Is there a correlation between GP attendances and age?\n",
    "* Do we still see those patterns when excluding urgent appointments? \n",
    "\n",
    "\n",
    "## Time periods\n",
    "\n",
    "I’d need to compare GP attendances in below time points, and present them as the proportionate change in [GP appointments](https://files.digital.nhs.uk/BE/2D935F/Appointments_GP_Daily_Jan21.zip) attended between:  \n",
    "* March 2020 – September 2020  vs. March – September 2019 \n",
    "* October 2020 -  December 2020 vs. October – December 2019  \n",
    "\n",
    "## Read in the data"
   ]
  },
  {
   "cell_type": "code",
   "execution_count": 1,
   "metadata": {
    "scrolled": true
   },
   "outputs": [],
   "source": [
    "#Read in multiple CSV in 1 dataframe per https://medium.com/@kadek/elegantly-reading-multiple-csvs-into-pandas-e1a76843b688\n",
    "import glob\n",
    "import pandas as pd"
   ]
  },
  {
   "cell_type": "code",
   "execution_count": 2,
   "metadata": {},
   "outputs": [],
   "source": [
    "MarSep2019 = pd.concat([pd.read_csv(f) for f in glob.glob('Daily/Mar-Sep2019/CCG_CSV*.csv')], ignore_index = True)\n",
    "MarSep2020 = pd.concat([pd.read_csv(f) for f in glob.glob('Daily/Mar-Sep2020/CCG_CSV*.csv')], ignore_index = True)\n",
    "OctDec2019 = pd.concat([pd.read_csv(f) for f in glob.glob('Daily/Oct-Dec2019/CCG_CSV*.csv')], ignore_index = True)\n",
    "OctDec2020 = pd.concat([pd.read_csv(f) for f in glob.glob('Daily/Oct-Dec2020/CCG_CSV*.csv')], ignore_index = True)"
   ]
  },
  {
   "cell_type": "markdown",
   "metadata": {},
   "source": [
    "## Quick exploration of the data"
   ]
  },
  {
   "cell_type": "code",
   "execution_count": 3,
   "metadata": {},
   "outputs": [
    {
     "name": "stdout",
     "output_type": "stream",
     "text": [
      "2288323\n"
     ]
    },
    {
     "data": {
      "text/html": [
       "<div>\n",
       "<style scoped>\n",
       "    .dataframe tbody tr th:only-of-type {\n",
       "        vertical-align: middle;\n",
       "    }\n",
       "\n",
       "    .dataframe tbody tr th {\n",
       "        vertical-align: top;\n",
       "    }\n",
       "\n",
       "    .dataframe thead th {\n",
       "        text-align: right;\n",
       "    }\n",
       "</style>\n",
       "<table border=\"1\" class=\"dataframe\">\n",
       "  <thead>\n",
       "    <tr style=\"text-align: right;\">\n",
       "      <th></th>\n",
       "      <th>CCG_CODE</th>\n",
       "      <th>CCG_ONS_CODE</th>\n",
       "      <th>CCG_NAME</th>\n",
       "      <th>STP_ONS_CODE</th>\n",
       "      <th>REGION_ONS_CODE</th>\n",
       "      <th>Appointment_Date</th>\n",
       "      <th>APPT_STATUS</th>\n",
       "      <th>HCP_TYPE</th>\n",
       "      <th>APPT_MODE</th>\n",
       "      <th>TIME_BETWEEN_BOOK_AND_APPT</th>\n",
       "      <th>COUNT_OF_APPOINTMENTS</th>\n",
       "    </tr>\n",
       "  </thead>\n",
       "  <tbody>\n",
       "    <tr>\n",
       "      <th>0</th>\n",
       "      <td>00L</td>\n",
       "      <td>E38000130</td>\n",
       "      <td>NHS Northumberland CCG</td>\n",
       "      <td>E54000050</td>\n",
       "      <td>E40000009</td>\n",
       "      <td>01JUN2019</td>\n",
       "      <td>Attended</td>\n",
       "      <td>Other Practice staff</td>\n",
       "      <td>Telephone</td>\n",
       "      <td>2 to 7 Days</td>\n",
       "      <td>1</td>\n",
       "    </tr>\n",
       "    <tr>\n",
       "      <th>1</th>\n",
       "      <td>00L</td>\n",
       "      <td>E38000130</td>\n",
       "      <td>NHS Northumberland CCG</td>\n",
       "      <td>E54000050</td>\n",
       "      <td>E40000009</td>\n",
       "      <td>01JUN2019</td>\n",
       "      <td>Attended</td>\n",
       "      <td>GP</td>\n",
       "      <td>Face-to-Face</td>\n",
       "      <td>2 to 7 Days</td>\n",
       "      <td>25</td>\n",
       "    </tr>\n",
       "    <tr>\n",
       "      <th>2</th>\n",
       "      <td>00L</td>\n",
       "      <td>E38000130</td>\n",
       "      <td>NHS Northumberland CCG</td>\n",
       "      <td>E54000050</td>\n",
       "      <td>E40000009</td>\n",
       "      <td>01JUN2019</td>\n",
       "      <td>DNA</td>\n",
       "      <td>GP</td>\n",
       "      <td>Face-to-Face</td>\n",
       "      <td>8  to 14 Days</td>\n",
       "      <td>2</td>\n",
       "    </tr>\n",
       "    <tr>\n",
       "      <th>3</th>\n",
       "      <td>00L</td>\n",
       "      <td>E38000130</td>\n",
       "      <td>NHS Northumberland CCG</td>\n",
       "      <td>E54000050</td>\n",
       "      <td>E40000009</td>\n",
       "      <td>01JUN2019</td>\n",
       "      <td>Attended</td>\n",
       "      <td>Other Practice staff</td>\n",
       "      <td>Face-to-Face</td>\n",
       "      <td>Same Day</td>\n",
       "      <td>5</td>\n",
       "    </tr>\n",
       "    <tr>\n",
       "      <th>4</th>\n",
       "      <td>00L</td>\n",
       "      <td>E38000130</td>\n",
       "      <td>NHS Northumberland CCG</td>\n",
       "      <td>E54000050</td>\n",
       "      <td>E40000009</td>\n",
       "      <td>01JUN2019</td>\n",
       "      <td>Attended</td>\n",
       "      <td>GP</td>\n",
       "      <td>Face-to-Face</td>\n",
       "      <td>Same Day</td>\n",
       "      <td>35</td>\n",
       "    </tr>\n",
       "  </tbody>\n",
       "</table>\n",
       "</div>"
      ],
      "text/plain": [
       "  CCG_CODE CCG_ONS_CODE                CCG_NAME STP_ONS_CODE REGION_ONS_CODE  \\\n",
       "0      00L    E38000130  NHS Northumberland CCG    E54000050       E40000009   \n",
       "1      00L    E38000130  NHS Northumberland CCG    E54000050       E40000009   \n",
       "2      00L    E38000130  NHS Northumberland CCG    E54000050       E40000009   \n",
       "3      00L    E38000130  NHS Northumberland CCG    E54000050       E40000009   \n",
       "4      00L    E38000130  NHS Northumberland CCG    E54000050       E40000009   \n",
       "\n",
       "  Appointment_Date APPT_STATUS              HCP_TYPE     APPT_MODE  \\\n",
       "0        01JUN2019    Attended  Other Practice staff     Telephone   \n",
       "1        01JUN2019    Attended                    GP  Face-to-Face   \n",
       "2        01JUN2019         DNA                    GP  Face-to-Face   \n",
       "3        01JUN2019    Attended  Other Practice staff  Face-to-Face   \n",
       "4        01JUN2019    Attended                    GP  Face-to-Face   \n",
       "\n",
       "  TIME_BETWEEN_BOOK_AND_APPT  COUNT_OF_APPOINTMENTS  \n",
       "0                2 to 7 Days                      1  \n",
       "1                2 to 7 Days                     25  \n",
       "2              8  to 14 Days                      2  \n",
       "3                   Same Day                      5  \n",
       "4                   Same Day                     35  "
      ]
     },
     "execution_count": 3,
     "metadata": {},
     "output_type": "execute_result"
    }
   ],
   "source": [
    "#Check that data is combined correctly\n",
    "print(len(MarSep2019)) # how many rows? 2.3M so it won't fit Excel if > 1M...\n",
    "\n",
    "#Quick exploration of the data\n",
    "pd.options.display.max_columns = 150 # to avoid truncated output \n",
    "MarSep2019.head() #show top 5 rows"
   ]
  },
  {
   "cell_type": "code",
   "execution_count": 4,
   "metadata": {},
   "outputs": [
    {
     "name": "stdout",
     "output_type": "stream",
     "text": [
      "28AUG2019    15515\n",
      "24SEP2019    15466\n",
      "24APR2019    15383\n",
      "26SEP2019    15378\n",
      "25SEP2019    15371\n",
      "30APR2019    15334\n",
      "25JUN2019    15332\n",
      "26MAR2019    15331\n",
      "29AUG2019    15325\n",
      "17SEP2019    15321\n",
      "04SEP2019    15315\n",
      "03SEP2019    15281\n",
      "23JUL2019    15276\n",
      "25APR2019    15267\n",
      "16JUL2019    15262\n",
      "30JUL2019    15253\n",
      "05SEP2019    15240\n",
      "18SEP2019    15236\n",
      "10SEP2019    15232\n",
      "04JUN2019    15215\n",
      "12MAR2019    15209\n",
      "08MAY2019    15208\n",
      "05MAR2019    15204\n",
      "11JUN2019    15186\n",
      "27MAR2019    15175\n",
      "13AUG2019    15166\n",
      "18JUN2019    15159\n",
      "20AUG2019    15156\n",
      "24JUL2019    15153\n",
      "19MAR2019    15148\n",
      "02JUL2019    15145\n",
      "19SEP2019    15140\n",
      "12SEP2019    15134\n",
      "29MAY2019    15127\n",
      "21MAY2019    15126\n",
      "11SEP2019    15118\n",
      "01MAY2019    15116\n",
      "27JUN2019    15105\n",
      "14AUG2019    15087\n",
      "06AUG2019    15079\n",
      "06JUN2019    15072\n",
      "09MAY2019    15071\n",
      "09JUL2019    15068\n",
      "14MAY2019    15062\n",
      "30MAY2019    15057\n",
      "28MAR2019    15048\n",
      "02MAY2019    15044\n",
      "02APR2019    15043\n",
      "23MAY2019    15042\n",
      "27SEP2019    15036\n",
      "07AUG2019    15032\n",
      "16APR2019    15027\n",
      "31JUL2019    15026\n",
      "26JUN2019    15025\n",
      "20JUN2019    15023\n",
      "19JUN2019    15022\n",
      "14MAR2019    15021\n",
      "20SEP2019    15018\n",
      "17JUL2019    14999\n",
      "13JUN2019    14993\n",
      "04JUL2019    14989\n",
      "20MAR2019    14989\n",
      "18JUL2019    14984\n",
      "05JUN2019    14982\n",
      "25JUL2019    14978\n",
      "21AUG2019    14977\n",
      "06MAR2019    14975\n",
      "03JUL2019    14974\n",
      "07MAR2019    14956\n",
      "12JUN2019    14955\n",
      "13MAR2019    14943\n",
      "09APR2019    14939\n",
      "21MAR2019    14936\n",
      "16MAY2019    14920\n",
      "22MAY2019    14914\n",
      "22AUG2019    14910\n",
      "10JUL2019    14910\n",
      "26APR2019    14907\n",
      "01AUG2019    14892\n",
      "15MAY2019    14876\n",
      "08AUG2019    14873\n",
      "17APR2019    14859\n",
      "06SEP2019    14856\n",
      "03APR2019    14851\n",
      "04APR2019    14851\n",
      "13SEP2019    14837\n",
      "30AUG2019    14833\n",
      "10APR2019    14832\n",
      "15AUG2019    14831\n",
      "11JUL2019    14813\n",
      "07JUN2019    14769\n",
      "18APR2019    14767\n",
      "11APR2019    14763\n",
      "01MAR2019    14759\n",
      "28JUN2019    14755\n",
      "21JUN2019    14747\n",
      "29MAR2019    14726\n",
      "15MAR2019    14714\n",
      "10MAY2019    14708\n",
      "19JUL2019    14668\n",
      "03MAY2019    14657\n",
      "14JUN2019    14653\n",
      "08MAR2019    14647\n",
      "22MAR2019    14616\n",
      "24MAY2019    14613\n",
      "12JUL2019    14548\n",
      "26JUL2019    14547\n",
      "05APR2019    14523\n",
      "31MAY2019    14515\n",
      "05JUL2019    14496\n",
      "16AUG2019    14489\n",
      "09AUG2019    14457\n",
      "17MAY2019    14446\n",
      "12APR2019    14435\n",
      "02AUG2019    14408\n",
      "23AUG2019    14380\n",
      "27AUG2019    14138\n",
      "23APR2019    14009\n",
      "02SEP2019    13978\n",
      "30SEP2019    13940\n",
      "07MAY2019    13913\n",
      "29APR2019    13889\n",
      "28MAY2019    13815\n",
      "23SEP2019    13779\n",
      "16SEP2019    13770\n",
      "09SEP2019    13720\n",
      "13MAY2019    13683\n",
      "24JUN2019    13671\n",
      "03JUN2019    13646\n",
      "18MAR2019    13636\n",
      "25MAR2019    13618\n",
      "01JUL2019    13596\n",
      "11MAR2019    13592\n",
      "15JUL2019    13591\n",
      "04MAR2019    13570\n",
      "19AUG2019    13568\n",
      "22JUL2019    13567\n",
      "12AUG2019    13547\n",
      "29JUL2019    13519\n",
      "10JUN2019    13514\n",
      "08JUL2019    13492\n",
      "15APR2019    13455\n",
      "01APR2019    13430\n",
      "05AUG2019    13415\n",
      "17JUN2019    13412\n",
      "20MAY2019    13378\n",
      "08APR2019    13301\n",
      "28SEP2019     5565\n",
      "21SEP2019     4948\n",
      "14SEP2019     4349\n",
      "16MAR2019     3543\n",
      "09MAR2019     3526\n",
      "27APR2019     3508\n",
      "11MAY2019     3492\n",
      "23MAR2019     3460\n",
      "07SEP2019     3416\n",
      "02MAR2019     3409\n",
      "31AUG2019     3398\n",
      "30MAR2019     3395\n",
      "08JUN2019     3381\n",
      "06JUL2019     3357\n",
      "13APR2019     3356\n",
      "13JUL2019     3349\n",
      "17AUG2019     3339\n",
      "18MAY2019     3335\n",
      "15JUN2019     3301\n",
      "22JUN2019     3283\n",
      "10AUG2019     3272\n",
      "20JUL2019     3265\n",
      "06APR2019     3244\n",
      "27JUL2019     3231\n",
      "01JUN2019     3210\n",
      "03AUG2019     3207\n",
      "29JUN2019     3191\n",
      "04MAY2019     2945\n",
      "24AUG2019     2926\n",
      "25MAY2019     2874\n",
      "20APR2019     2273\n",
      "19APR2019      852\n",
      "29SEP2019      776\n",
      "22APR2019      744\n",
      "06MAY2019      732\n",
      "26AUG2019      689\n",
      "27MAY2019      673\n",
      "22SEP2019      671\n",
      "17MAR2019      664\n",
      "24MAR2019      655\n",
      "03MAR2019      649\n",
      "31MAR2019      648\n",
      "15SEP2019      633\n",
      "28APR2019      613\n",
      "10MAR2019      608\n",
      "08SEP2019      603\n",
      "18AUG2019      583\n",
      "01SEP2019      578\n",
      "07APR2019      575\n",
      "21JUL2019      567\n",
      "14APR2019      566\n",
      "14JUL2019      558\n",
      "26MAY2019      556\n",
      "07JUL2019      553\n",
      "28JUL2019      552\n",
      "30JUN2019      549\n",
      "04AUG2019      549\n",
      "09JUN2019      549\n",
      "11AUG2019      547\n",
      "25AUG2019      546\n",
      "16JUN2019      542\n",
      "19MAY2019      540\n",
      "05MAY2019      536\n",
      "12MAY2019      535\n",
      "23JUN2019      533\n",
      "02JUN2019      515\n",
      "21APR2019      433\n",
      "Name: Appointment_Date, dtype: int64\n"
     ]
    }
   ],
   "source": [
    "# Check the unique values for the Appointment column & counts\n",
    "pd.set_option('display.max_rows', None)# Set it to 'None' to display all rows in the dataframe\n",
    "print(MarSep2019['Appointment_Date'].value_counts()) #does it show me all the months I want Mar to Sep 2019? Yes"
   ]
  },
  {
   "cell_type": "code",
   "execution_count": 5,
   "metadata": {},
   "outputs": [
    {
     "data": {
      "text/plain": [
       "172048168"
      ]
     },
     "execution_count": 5,
     "metadata": {},
     "output_type": "execute_result"
    }
   ],
   "source": [
    "# What is the total of appts for Mar-Sep 2019?\n",
    "MarSep2019Appt = MarSep2019['COUNT_OF_APPOINTMENTS'].sum()\n",
    "MarSep2019Appt"
   ]
  },
  {
   "cell_type": "code",
   "execution_count": 6,
   "metadata": {},
   "outputs": [
    {
     "data": {
      "text/plain": [
       "146356879"
      ]
     },
     "execution_count": 6,
     "metadata": {},
     "output_type": "execute_result"
    }
   ],
   "source": [
    "# What is the total of appts for Mar-Sep 2020?\n",
    "MarSep2020Appt = MarSep2020['COUNT_OF_APPOINTMENTS'].sum()\n",
    "MarSep2020Appt"
   ]
  },
  {
   "cell_type": "code",
   "execution_count": 7,
   "metadata": {},
   "outputs": [
    {
     "data": {
      "text/plain": [
       "-14.932614103743319"
      ]
     },
     "execution_count": 7,
     "metadata": {},
     "output_type": "execute_result"
    }
   ],
   "source": [
    "# % change for Mar-Sep 2019 vs Mar-Sep 2020 nationally\n",
    "MarSepChange = 100* ((MarSep2020Appt-MarSep2019Appt)/MarSep2019Appt)\n",
    "MarSepChange"
   ]
  },
  {
   "cell_type": "code",
   "execution_count": 8,
   "metadata": {},
   "outputs": [
    {
     "data": {
      "text/plain": [
       "80387918"
      ]
     },
     "execution_count": 8,
     "metadata": {},
     "output_type": "execute_result"
    }
   ],
   "source": [
    "# What is the total of appts for Oct-Dec 2019?\n",
    "OctDec2019Appt = OctDec2019['COUNT_OF_APPOINTMENTS'].sum()\n",
    "OctDec2019Appt"
   ]
  },
  {
   "cell_type": "code",
   "execution_count": 9,
   "metadata": {},
   "outputs": [
    {
     "data": {
      "text/plain": [
       "77033482"
      ]
     },
     "execution_count": 9,
     "metadata": {},
     "output_type": "execute_result"
    }
   ],
   "source": [
    "# What is the total of appts for Oct-Dec 2020?\n",
    "OctDec2020Appt = OctDec2020['COUNT_OF_APPOINTMENTS'].sum()\n",
    "OctDec2020Appt"
   ]
  },
  {
   "cell_type": "code",
   "execution_count": 10,
   "metadata": {},
   "outputs": [
    {
     "data": {
      "text/plain": [
       "-4.172811143087447"
      ]
     },
     "execution_count": 10,
     "metadata": {},
     "output_type": "execute_result"
    }
   ],
   "source": [
    "# % change for Oct-Dec 2019 vs Oct-Dec 2020 nationally\n",
    "OctDecChange = 100* ((OctDec2020Appt-OctDec2019Appt)/OctDec2019Appt)\n",
    "OctDecChange"
   ]
  },
  {
   "cell_type": "markdown",
   "metadata": {},
   "source": [
    "## Read in deprivation data"
   ]
  },
  {
   "cell_type": "code",
   "execution_count": 11,
   "metadata": {},
   "outputs": [
    {
     "data": {
      "text/html": [
       "<div>\n",
       "<style scoped>\n",
       "    .dataframe tbody tr th:only-of-type {\n",
       "        vertical-align: middle;\n",
       "    }\n",
       "\n",
       "    .dataframe tbody tr th {\n",
       "        vertical-align: top;\n",
       "    }\n",
       "\n",
       "    .dataframe thead th {\n",
       "        text-align: right;\n",
       "    }\n",
       "</style>\n",
       "<table border=\"1\" class=\"dataframe\">\n",
       "  <thead>\n",
       "    <tr style=\"text-align: right;\">\n",
       "      <th></th>\n",
       "      <th>Indicator ID</th>\n",
       "      <th>Indicator Name</th>\n",
       "      <th>Parent Code</th>\n",
       "      <th>Parent Name</th>\n",
       "      <th>Area Code</th>\n",
       "      <th>AreaName</th>\n",
       "      <th>Area Type</th>\n",
       "      <th>Sex</th>\n",
       "      <th>Age</th>\n",
       "      <th>Category Type</th>\n",
       "      <th>Category</th>\n",
       "      <th>Time period</th>\n",
       "      <th>Value</th>\n",
       "      <th>Lower CI 95.0 limit</th>\n",
       "      <th>Upper CI 95.0 limit</th>\n",
       "      <th>Lower CI 99.8 limit</th>\n",
       "      <th>Upper CI 99.8 limit</th>\n",
       "      <th>Count</th>\n",
       "      <th>Denominator</th>\n",
       "      <th>Value note</th>\n",
       "      <th>Recent Trend</th>\n",
       "      <th>Compared to England value or percentiles</th>\n",
       "      <th>Compared to parent value or percentiles</th>\n",
       "      <th>Time period Sortable</th>\n",
       "      <th>New data</th>\n",
       "      <th>Compared to goal</th>\n",
       "    </tr>\n",
       "  </thead>\n",
       "  <tbody>\n",
       "    <tr>\n",
       "      <th>0</th>\n",
       "      <td>93553</td>\n",
       "      <td>Deprivation score (IMD 2019)</td>\n",
       "      <td>NaN</td>\n",
       "      <td>NaN</td>\n",
       "      <td>E92000001</td>\n",
       "      <td>England</td>\n",
       "      <td>England</td>\n",
       "      <td>Persons</td>\n",
       "      <td>All ages</td>\n",
       "      <td>NaN</td>\n",
       "      <td>NaN</td>\n",
       "      <td>2019</td>\n",
       "      <td>21.722087</td>\n",
       "      <td>NaN</td>\n",
       "      <td>NaN</td>\n",
       "      <td>NaN</td>\n",
       "      <td>NaN</td>\n",
       "      <td>-</td>\n",
       "      <td>NaN</td>\n",
       "      <td>NaN</td>\n",
       "      <td>Cannot be calculated</td>\n",
       "      <td>NaN</td>\n",
       "      <td>NaN</td>\n",
       "      <td>20190000</td>\n",
       "      <td>NaN</td>\n",
       "      <td>NaN</td>\n",
       "    </tr>\n",
       "    <tr>\n",
       "      <th>1</th>\n",
       "      <td>93553</td>\n",
       "      <td>Deprivation score (IMD 2019)</td>\n",
       "      <td>E92000001</td>\n",
       "      <td>England</td>\n",
       "      <td>E38000015</td>\n",
       "      <td>NHS Blackpool CCG</td>\n",
       "      <td>CCGs (since 4/20)</td>\n",
       "      <td>Persons</td>\n",
       "      <td>All ages</td>\n",
       "      <td>NaN</td>\n",
       "      <td>NaN</td>\n",
       "      <td>2019</td>\n",
       "      <td>45.039000</td>\n",
       "      <td>NaN</td>\n",
       "      <td>NaN</td>\n",
       "      <td>NaN</td>\n",
       "      <td>NaN</td>\n",
       "      <td>-</td>\n",
       "      <td>NaN</td>\n",
       "      <td>NaN</td>\n",
       "      <td>Cannot be calculated</td>\n",
       "      <td>Highest quintile</td>\n",
       "      <td>Highest quintile</td>\n",
       "      <td>20190000</td>\n",
       "      <td>NaN</td>\n",
       "      <td>NaN</td>\n",
       "    </tr>\n",
       "    <tr>\n",
       "      <th>2</th>\n",
       "      <td>93553</td>\n",
       "      <td>Deprivation score (IMD 2019)</td>\n",
       "      <td>E92000001</td>\n",
       "      <td>England</td>\n",
       "      <td>E38000091</td>\n",
       "      <td>NHS Knowsley CCG</td>\n",
       "      <td>CCGs (since 4/20)</td>\n",
       "      <td>Persons</td>\n",
       "      <td>All ages</td>\n",
       "      <td>NaN</td>\n",
       "      <td>NaN</td>\n",
       "      <td>2019</td>\n",
       "      <td>43.006000</td>\n",
       "      <td>NaN</td>\n",
       "      <td>NaN</td>\n",
       "      <td>NaN</td>\n",
       "      <td>NaN</td>\n",
       "      <td>-</td>\n",
       "      <td>NaN</td>\n",
       "      <td>NaN</td>\n",
       "      <td>Cannot be calculated</td>\n",
       "      <td>Highest quintile</td>\n",
       "      <td>Highest quintile</td>\n",
       "      <td>20190000</td>\n",
       "      <td>NaN</td>\n",
       "      <td>NaN</td>\n",
       "    </tr>\n",
       "    <tr>\n",
       "      <th>3</th>\n",
       "      <td>93553</td>\n",
       "      <td>Deprivation score (IMD 2019)</td>\n",
       "      <td>E92000001</td>\n",
       "      <td>England</td>\n",
       "      <td>E38000101</td>\n",
       "      <td>NHS Liverpool CCG</td>\n",
       "      <td>CCGs (since 4/20)</td>\n",
       "      <td>Persons</td>\n",
       "      <td>All ages</td>\n",
       "      <td>NaN</td>\n",
       "      <td>NaN</td>\n",
       "      <td>2019</td>\n",
       "      <td>42.412000</td>\n",
       "      <td>NaN</td>\n",
       "      <td>NaN</td>\n",
       "      <td>NaN</td>\n",
       "      <td>NaN</td>\n",
       "      <td>-</td>\n",
       "      <td>NaN</td>\n",
       "      <td>NaN</td>\n",
       "      <td>Cannot be calculated</td>\n",
       "      <td>Highest quintile</td>\n",
       "      <td>Highest quintile</td>\n",
       "      <td>20190000</td>\n",
       "      <td>NaN</td>\n",
       "      <td>NaN</td>\n",
       "    </tr>\n",
       "    <tr>\n",
       "      <th>4</th>\n",
       "      <td>93553</td>\n",
       "      <td>Deprivation score (IMD 2019)</td>\n",
       "      <td>E92000001</td>\n",
       "      <td>England</td>\n",
       "      <td>E38000085</td>\n",
       "      <td>NHS Hull CCG</td>\n",
       "      <td>CCGs (since 4/20)</td>\n",
       "      <td>Persons</td>\n",
       "      <td>All ages</td>\n",
       "      <td>NaN</td>\n",
       "      <td>NaN</td>\n",
       "      <td>2019</td>\n",
       "      <td>40.564000</td>\n",
       "      <td>NaN</td>\n",
       "      <td>NaN</td>\n",
       "      <td>NaN</td>\n",
       "      <td>NaN</td>\n",
       "      <td>-</td>\n",
       "      <td>NaN</td>\n",
       "      <td>NaN</td>\n",
       "      <td>Cannot be calculated</td>\n",
       "      <td>Highest quintile</td>\n",
       "      <td>Highest quintile</td>\n",
       "      <td>20190000</td>\n",
       "      <td>NaN</td>\n",
       "      <td>NaN</td>\n",
       "    </tr>\n",
       "  </tbody>\n",
       "</table>\n",
       "</div>"
      ],
      "text/plain": [
       "   Indicator ID                Indicator Name Parent Code Parent Name  \\\n",
       "0         93553  Deprivation score (IMD 2019)         NaN         NaN   \n",
       "1         93553  Deprivation score (IMD 2019)   E92000001     England   \n",
       "2         93553  Deprivation score (IMD 2019)   E92000001     England   \n",
       "3         93553  Deprivation score (IMD 2019)   E92000001     England   \n",
       "4         93553  Deprivation score (IMD 2019)   E92000001     England   \n",
       "\n",
       "   Area Code           AreaName          Area Type      Sex       Age  \\\n",
       "0  E92000001            England            England  Persons  All ages   \n",
       "1  E38000015  NHS Blackpool CCG  CCGs (since 4/20)  Persons  All ages   \n",
       "2  E38000091   NHS Knowsley CCG  CCGs (since 4/20)  Persons  All ages   \n",
       "3  E38000101  NHS Liverpool CCG  CCGs (since 4/20)  Persons  All ages   \n",
       "4  E38000085       NHS Hull CCG  CCGs (since 4/20)  Persons  All ages   \n",
       "\n",
       "   Category Type  Category  Time period      Value  Lower CI 95.0 limit  \\\n",
       "0            NaN       NaN         2019  21.722087                  NaN   \n",
       "1            NaN       NaN         2019  45.039000                  NaN   \n",
       "2            NaN       NaN         2019  43.006000                  NaN   \n",
       "3            NaN       NaN         2019  42.412000                  NaN   \n",
       "4            NaN       NaN         2019  40.564000                  NaN   \n",
       "\n",
       "   Upper CI 95.0 limit  Lower CI 99.8 limit  Upper CI 99.8 limit Count  \\\n",
       "0                  NaN                  NaN                  NaN     -   \n",
       "1                  NaN                  NaN                  NaN     -   \n",
       "2                  NaN                  NaN                  NaN     -   \n",
       "3                  NaN                  NaN                  NaN     -   \n",
       "4                  NaN                  NaN                  NaN     -   \n",
       "\n",
       "   Denominator  Value note          Recent Trend  \\\n",
       "0          NaN         NaN  Cannot be calculated   \n",
       "1          NaN         NaN  Cannot be calculated   \n",
       "2          NaN         NaN  Cannot be calculated   \n",
       "3          NaN         NaN  Cannot be calculated   \n",
       "4          NaN         NaN  Cannot be calculated   \n",
       "\n",
       "  Compared to England value or percentiles  \\\n",
       "0                                      NaN   \n",
       "1                         Highest quintile   \n",
       "2                         Highest quintile   \n",
       "3                         Highest quintile   \n",
       "4                         Highest quintile   \n",
       "\n",
       "  Compared to parent value or percentiles  Time period Sortable  New data  \\\n",
       "0                                     NaN              20190000       NaN   \n",
       "1                        Highest quintile              20190000       NaN   \n",
       "2                        Highest quintile              20190000       NaN   \n",
       "3                        Highest quintile              20190000       NaN   \n",
       "4                        Highest quintile              20190000       NaN   \n",
       "\n",
       "   Compared to goal  \n",
       "0               NaN  \n",
       "1               NaN  \n",
       "2               NaN  \n",
       "3               NaN  \n",
       "4               NaN  "
      ]
     },
     "execution_count": 11,
     "metadata": {},
     "output_type": "execute_result"
    }
   ],
   "source": [
    "# read in & assign IMD quintiles to each CCG so I can calculate % change by deprivation quintiles \n",
    "#I would need to use Python version of vlookup: https://stackoverflow.com/questions/37894807/lookup-values-with-different-column-names-in-pandas\n",
    "deprivation = pd.read_csv(\"Compare_areas.csv\")\n",
    "deprivation.head()"
   ]
  },
  {
   "cell_type": "markdown",
   "metadata": {},
   "source": [
    "## Combine the datasets"
   ]
  },
  {
   "cell_type": "code",
   "execution_count": 12,
   "metadata": {},
   "outputs": [
    {
     "data": {
      "text/html": [
       "<div>\n",
       "<style scoped>\n",
       "    .dataframe tbody tr th:only-of-type {\n",
       "        vertical-align: middle;\n",
       "    }\n",
       "\n",
       "    .dataframe tbody tr th {\n",
       "        vertical-align: top;\n",
       "    }\n",
       "\n",
       "    .dataframe thead th {\n",
       "        text-align: right;\n",
       "    }\n",
       "</style>\n",
       "<table border=\"1\" class=\"dataframe\">\n",
       "  <thead>\n",
       "    <tr style=\"text-align: right;\">\n",
       "      <th></th>\n",
       "      <th>CCG_CODE</th>\n",
       "      <th>CCG_ONS_CODE</th>\n",
       "      <th>CCG_NAME</th>\n",
       "      <th>STP_ONS_CODE</th>\n",
       "      <th>REGION_ONS_CODE</th>\n",
       "      <th>Appointment_Date</th>\n",
       "      <th>APPT_STATUS</th>\n",
       "      <th>HCP_TYPE</th>\n",
       "      <th>APPT_MODE</th>\n",
       "      <th>TIME_BETWEEN_BOOK_AND_APPT</th>\n",
       "      <th>COUNT_OF_APPOINTMENTS</th>\n",
       "      <th>IMD Quintiles</th>\n",
       "    </tr>\n",
       "  </thead>\n",
       "  <tbody>\n",
       "    <tr>\n",
       "      <th>0</th>\n",
       "      <td>00L</td>\n",
       "      <td>E38000130</td>\n",
       "      <td>NHS Northumberland CCG</td>\n",
       "      <td>E54000050</td>\n",
       "      <td>E40000009</td>\n",
       "      <td>01JUN2019</td>\n",
       "      <td>Attended</td>\n",
       "      <td>Other Practice staff</td>\n",
       "      <td>Telephone</td>\n",
       "      <td>2 to 7 Days</td>\n",
       "      <td>1</td>\n",
       "      <td>Middle quintile</td>\n",
       "    </tr>\n",
       "    <tr>\n",
       "      <th>1</th>\n",
       "      <td>00L</td>\n",
       "      <td>E38000130</td>\n",
       "      <td>NHS Northumberland CCG</td>\n",
       "      <td>E54000050</td>\n",
       "      <td>E40000009</td>\n",
       "      <td>01JUN2019</td>\n",
       "      <td>Attended</td>\n",
       "      <td>GP</td>\n",
       "      <td>Face-to-Face</td>\n",
       "      <td>2 to 7 Days</td>\n",
       "      <td>25</td>\n",
       "      <td>Middle quintile</td>\n",
       "    </tr>\n",
       "    <tr>\n",
       "      <th>2</th>\n",
       "      <td>00L</td>\n",
       "      <td>E38000130</td>\n",
       "      <td>NHS Northumberland CCG</td>\n",
       "      <td>E54000050</td>\n",
       "      <td>E40000009</td>\n",
       "      <td>01JUN2019</td>\n",
       "      <td>DNA</td>\n",
       "      <td>GP</td>\n",
       "      <td>Face-to-Face</td>\n",
       "      <td>8  to 14 Days</td>\n",
       "      <td>2</td>\n",
       "      <td>Middle quintile</td>\n",
       "    </tr>\n",
       "    <tr>\n",
       "      <th>3</th>\n",
       "      <td>00L</td>\n",
       "      <td>E38000130</td>\n",
       "      <td>NHS Northumberland CCG</td>\n",
       "      <td>E54000050</td>\n",
       "      <td>E40000009</td>\n",
       "      <td>01JUN2019</td>\n",
       "      <td>Attended</td>\n",
       "      <td>Other Practice staff</td>\n",
       "      <td>Face-to-Face</td>\n",
       "      <td>Same Day</td>\n",
       "      <td>5</td>\n",
       "      <td>Middle quintile</td>\n",
       "    </tr>\n",
       "    <tr>\n",
       "      <th>4</th>\n",
       "      <td>00L</td>\n",
       "      <td>E38000130</td>\n",
       "      <td>NHS Northumberland CCG</td>\n",
       "      <td>E54000050</td>\n",
       "      <td>E40000009</td>\n",
       "      <td>01JUN2019</td>\n",
       "      <td>Attended</td>\n",
       "      <td>GP</td>\n",
       "      <td>Face-to-Face</td>\n",
       "      <td>Same Day</td>\n",
       "      <td>35</td>\n",
       "      <td>Middle quintile</td>\n",
       "    </tr>\n",
       "  </tbody>\n",
       "</table>\n",
       "</div>"
      ],
      "text/plain": [
       "  CCG_CODE CCG_ONS_CODE                CCG_NAME STP_ONS_CODE REGION_ONS_CODE  \\\n",
       "0      00L    E38000130  NHS Northumberland CCG    E54000050       E40000009   \n",
       "1      00L    E38000130  NHS Northumberland CCG    E54000050       E40000009   \n",
       "2      00L    E38000130  NHS Northumberland CCG    E54000050       E40000009   \n",
       "3      00L    E38000130  NHS Northumberland CCG    E54000050       E40000009   \n",
       "4      00L    E38000130  NHS Northumberland CCG    E54000050       E40000009   \n",
       "\n",
       "  Appointment_Date APPT_STATUS              HCP_TYPE     APPT_MODE  \\\n",
       "0        01JUN2019    Attended  Other Practice staff     Telephone   \n",
       "1        01JUN2019    Attended                    GP  Face-to-Face   \n",
       "2        01JUN2019         DNA                    GP  Face-to-Face   \n",
       "3        01JUN2019    Attended  Other Practice staff  Face-to-Face   \n",
       "4        01JUN2019    Attended                    GP  Face-to-Face   \n",
       "\n",
       "  TIME_BETWEEN_BOOK_AND_APPT  COUNT_OF_APPOINTMENTS    IMD Quintiles  \n",
       "0                2 to 7 Days                      1  Middle quintile  \n",
       "1                2 to 7 Days                     25  Middle quintile  \n",
       "2              8  to 14 Days                      2  Middle quintile  \n",
       "3                   Same Day                      5  Middle quintile  \n",
       "4                   Same Day                     35  Middle quintile  "
      ]
     },
     "execution_count": 12,
     "metadata": {},
     "output_type": "execute_result"
    }
   ],
   "source": [
    "MarSep2019[\"IMD Quintiles\"] = MarSep2019.CCG_ONS_CODE.map(deprivation.set_index('Area Code')['Compared to England value or percentiles'])\n",
    "MarSep2019.head() #print first 5 to double check it's assigned correctly. "
   ]
  },
  {
   "cell_type": "code",
   "execution_count": 13,
   "metadata": {},
   "outputs": [],
   "source": [
    "MarSep2020[\"IMD Quintiles\"] = MarSep2020.CCG_ONS_CODE.map(deprivation.set_index('Area Code')['Compared to England value or percentiles'])\n",
    "OctDec2019[\"IMD Quintiles\"] = OctDec2019.CCG_ONS_CODE.map(deprivation.set_index('Area Code')['Compared to England value or percentiles'])\n",
    "OctDec2020[\"IMD Quintiles\"] = OctDec2020.CCG_ONS_CODE.map(deprivation.set_index('Area Code')['Compared to England value or percentiles'])"
   ]
  },
  {
   "cell_type": "markdown",
   "metadata": {},
   "source": [
    "## Checking for missing deprivation values"
   ]
  },
  {
   "cell_type": "code",
   "execution_count": 14,
   "metadata": {
    "scrolled": false
   },
   "outputs": [
    {
     "name": "stdout",
     "output_type": "stream",
     "text": [
      "CCG_CODE                      0\n",
      "CCG_ONS_CODE                  0\n",
      "CCG_NAME                      0\n",
      "STP_ONS_CODE                  0\n",
      "REGION_ONS_CODE               0\n",
      "Appointment_Date              0\n",
      "APPT_STATUS                   0\n",
      "HCP_TYPE                      0\n",
      "APPT_MODE                     0\n",
      "TIME_BETWEEN_BOOK_AND_APPT    0\n",
      "COUNT_OF_APPOINTMENTS         0\n",
      "IMD Quintiles                 0\n",
      "dtype: int64\n",
      "CCG_CODE                      0\n",
      "CCG_ONS_CODE                  0\n",
      "CCG_NAME                      0\n",
      "STP_ONS_CODE                  0\n",
      "REGION_ONS_CODE               0\n",
      "Appointment_Date              0\n",
      "APPT_STATUS                   0\n",
      "HCP_TYPE                      0\n",
      "APPT_MODE                     0\n",
      "TIME_BETWEEN_BOOK_AND_APPT    0\n",
      "COUNT_OF_APPOINTMENTS         0\n",
      "IMD Quintiles                 0\n",
      "dtype: int64\n",
      "CCG_CODE                      0\n",
      "CCG_ONS_CODE                  0\n",
      "CCG_NAME                      0\n",
      "STP_ONS_CODE                  0\n",
      "REGION_ONS_CODE               0\n",
      "Appointment_Date              0\n",
      "APPT_STATUS                   0\n",
      "HCP_TYPE                      0\n",
      "APPT_MODE                     0\n",
      "TIME_BETWEEN_BOOK_AND_APPT    0\n",
      "COUNT_OF_APPOINTMENTS         0\n",
      "IMD Quintiles                 0\n",
      "dtype: int64\n",
      "CCG_CODE                      0\n",
      "CCG_ONS_CODE                  0\n",
      "CCG_NAME                      0\n",
      "STP_ONS_CODE                  0\n",
      "REGION_ONS_CODE               0\n",
      "Appointment_Date              0\n",
      "APPT_STATUS                   0\n",
      "HCP_TYPE                      0\n",
      "APPT_MODE                     0\n",
      "TIME_BETWEEN_BOOK_AND_APPT    0\n",
      "COUNT_OF_APPOINTMENTS         0\n",
      "IMD Quintiles                 0\n",
      "dtype: int64\n"
     ]
    }
   ],
   "source": [
    "#Check if CCGs have missing IMD values\n",
    "print(MarSep2019.isnull().sum()) \n",
    "print(MarSep2020.isnull().sum()) \n",
    "print(OctDec2019.isnull().sum())\n",
    "print(OctDec2020.isnull().sum())"
   ]
  },
  {
   "cell_type": "markdown",
   "metadata": {},
   "source": [
    "## % change in GP attendances by deprivation during March to September 2020 vs March to September 2019"
   ]
  },
  {
   "cell_type": "code",
   "execution_count": 15,
   "metadata": {
    "scrolled": true
   },
   "outputs": [
    {
     "name": "stdout",
     "output_type": "stream",
     "text": [
      "IMD Quintiles\n",
      "2nd highest quintile    22591025\n",
      "2nd lowest quintile     22971442\n",
      "Highest quintile        21956028\n",
      "Lowest quintile         26225787\n",
      "Middle quintile         26015218\n",
      "Not compared            52288668\n",
      "Name: COUNT_OF_APPOINTMENTS, dtype: int64\n",
      "IMD Quintiles\n",
      "2nd highest quintile    19235523\n",
      "2nd lowest quintile     19293699\n",
      "Highest quintile        18350781\n",
      "Lowest quintile         22182405\n",
      "Middle quintile         22411001\n",
      "Not compared            44883470\n",
      "Name: COUNT_OF_APPOINTMENTS, dtype: int64\n",
      "IMD Quintiles\n",
      "2nd highest quintile   -14.853253\n",
      "2nd lowest quintile    -16.010066\n",
      "Highest quintile       -16.420306\n",
      "Lowest quintile        -15.417581\n",
      "Middle quintile        -13.854264\n",
      "Not compared           -14.162147\n",
      "Name: COUNT_OF_APPOINTMENTS, dtype: float64\n"
     ]
    }
   ],
   "source": [
    "# % change for Mar-Sep 2019 vs Mar-Sep 2020 by IMD quintiles\n",
    "MarSep2019imd = MarSep2019.groupby('IMD Quintiles')['COUNT_OF_APPOINTMENTS'].sum()\n",
    "print(MarSep2019imd)\n",
    "MarSep2020imd = MarSep2020.groupby('IMD Quintiles')['COUNT_OF_APPOINTMENTS'].sum()\n",
    "print(MarSep2020imd)\n",
    "MarSepChange = 100* ((MarSep2020imd-MarSep2019imd)/MarSep2019imd)\n",
    "print(MarSepChange)"
   ]
  },
  {
   "cell_type": "markdown",
   "metadata": {},
   "source": [
    "## Convert % change into a table and assign 5 to most deprived quintile"
   ]
  },
  {
   "cell_type": "code",
   "execution_count": 16,
   "metadata": {},
   "outputs": [
    {
     "data": {
      "text/html": [
       "<div>\n",
       "<style scoped>\n",
       "    .dataframe tbody tr th:only-of-type {\n",
       "        vertical-align: middle;\n",
       "    }\n",
       "\n",
       "    .dataframe tbody tr th {\n",
       "        vertical-align: top;\n",
       "    }\n",
       "\n",
       "    .dataframe thead th {\n",
       "        text-align: right;\n",
       "    }\n",
       "</style>\n",
       "<table border=\"1\" class=\"dataframe\">\n",
       "  <thead>\n",
       "    <tr style=\"text-align: right;\">\n",
       "      <th></th>\n",
       "      <th>5</th>\n",
       "      <th>4</th>\n",
       "      <th>3</th>\n",
       "      <th>2</th>\n",
       "      <th>1</th>\n",
       "    </tr>\n",
       "  </thead>\n",
       "  <tbody>\n",
       "    <tr>\n",
       "      <th>% Change Mar Sep</th>\n",
       "      <td>-16.4</td>\n",
       "      <td>-14.85</td>\n",
       "      <td>-13.85</td>\n",
       "      <td>-16.01</td>\n",
       "      <td>-15.4</td>\n",
       "    </tr>\n",
       "  </tbody>\n",
       "</table>\n",
       "</div>"
      ],
      "text/plain": [
       "                     5      4      3      2     1\n",
       "% Change Mar Sep -16.4 -14.85 -13.85 -16.01 -15.4"
      ]
     },
     "execution_count": 16,
     "metadata": {},
     "output_type": "execute_result"
    }
   ],
   "source": [
    "# Convert % Change into a dataframe by assigning 5 to highest quintile\n",
    "MarSepChange_df = pd.DataFrame({\"5\": -16.4,\"4\": -14.85,\"3\": -13.85,\"2\": -16.01,\"1\": -15.4}, index=['% Change Mar Sep'])\n",
    "\n",
    "MarSepChange_df"
   ]
  },
  {
   "cell_type": "code",
   "execution_count": 17,
   "metadata": {
    "scrolled": true
   },
   "outputs": [
    {
     "name": "stdout",
     "output_type": "stream",
     "text": [
      "<class 'pandas.core.frame.DataFrame'>\n",
      "Index: 1 entries, % Change Mar Sep to % Change Mar Sep\n",
      "Data columns (total 5 columns):\n",
      " #   Column  Non-Null Count  Dtype  \n",
      "---  ------  --------------  -----  \n",
      " 0   5       1 non-null      float64\n",
      " 1   4       1 non-null      float64\n",
      " 2   3       1 non-null      float64\n",
      " 3   2       1 non-null      float64\n",
      " 4   1       1 non-null      float64\n",
      "dtypes: float64(5)\n",
      "memory usage: 48.0+ bytes\n"
     ]
    }
   ],
   "source": [
    "MarSepChange_df.info()"
   ]
  },
  {
   "cell_type": "markdown",
   "metadata": {},
   "source": [
    "## % change in GP attendances by deprivation during Oct to Dec 2020 vs Oct to Dec 2019"
   ]
  },
  {
   "cell_type": "code",
   "execution_count": 18,
   "metadata": {
    "scrolled": false
   },
   "outputs": [
    {
     "name": "stdout",
     "output_type": "stream",
     "text": [
      "IMD Quintiles\n",
      "2nd highest quintile    10536077\n",
      "2nd lowest quintile     10803368\n",
      "Highest quintile        10197010\n",
      "Lowest quintile         12299375\n",
      "Middle quintile         12125855\n",
      "Not compared            24426233\n",
      "Name: COUNT_OF_APPOINTMENTS, dtype: int64\n",
      "IMD Quintiles\n",
      "2nd highest quintile     9959045\n",
      "2nd lowest quintile     10280465\n",
      "Highest quintile         9550568\n",
      "Lowest quintile         11996795\n",
      "Middle quintile         11488150\n",
      "Not compared            23758459\n",
      "Name: COUNT_OF_APPOINTMENTS, dtype: int64\n",
      "IMD Quintiles\n",
      "2nd highest quintile   -5.476725\n",
      "2nd lowest quintile    -4.840185\n",
      "Highest quintile       -6.339525\n",
      "Lowest quintile        -2.460125\n",
      "Middle quintile        -5.259052\n",
      "Not compared           -2.733839\n",
      "Name: COUNT_OF_APPOINTMENTS, dtype: float64\n"
     ]
    }
   ],
   "source": [
    "# % change for Oct-Dec 2019 vs Oct-Dec 2020 by IMD quintiles \n",
    "OctDec2019imd = OctDec2019.groupby('IMD Quintiles')['COUNT_OF_APPOINTMENTS'].sum()\n",
    "OctDec2020imd = OctDec2020.groupby('IMD Quintiles')['COUNT_OF_APPOINTMENTS'].sum()\n",
    "print(OctDec2019imd)\n",
    "print(OctDec2020imd)\n",
    "OctDecChange = 100* ((OctDec2020imd-OctDec2019imd)/OctDec2019imd)\n",
    "print(OctDecChange)"
   ]
  },
  {
   "cell_type": "code",
   "execution_count": 19,
   "metadata": {
    "scrolled": true
   },
   "outputs": [
    {
     "data": {
      "text/html": [
       "<div>\n",
       "<style scoped>\n",
       "    .dataframe tbody tr th:only-of-type {\n",
       "        vertical-align: middle;\n",
       "    }\n",
       "\n",
       "    .dataframe tbody tr th {\n",
       "        vertical-align: top;\n",
       "    }\n",
       "\n",
       "    .dataframe thead th {\n",
       "        text-align: right;\n",
       "    }\n",
       "</style>\n",
       "<table border=\"1\" class=\"dataframe\">\n",
       "  <thead>\n",
       "    <tr style=\"text-align: right;\">\n",
       "      <th></th>\n",
       "      <th>5</th>\n",
       "      <th>4</th>\n",
       "      <th>3</th>\n",
       "      <th>2</th>\n",
       "      <th>1</th>\n",
       "    </tr>\n",
       "  </thead>\n",
       "  <tbody>\n",
       "    <tr>\n",
       "      <th>% Change Oct Dec</th>\n",
       "      <td>-6.3</td>\n",
       "      <td>-5.47</td>\n",
       "      <td>-5.25</td>\n",
       "      <td>-4.8</td>\n",
       "      <td>-2.46</td>\n",
       "    </tr>\n",
       "  </tbody>\n",
       "</table>\n",
       "</div>"
      ],
      "text/plain": [
       "                    5     4     3    2     1\n",
       "% Change Oct Dec -6.3 -5.47 -5.25 -4.8 -2.46"
      ]
     },
     "execution_count": 19,
     "metadata": {},
     "output_type": "execute_result"
    }
   ],
   "source": [
    "# Convert % Change into a dataframe by assigning 5 to highest quintile\n",
    "OctDecChange_df = pd.DataFrame({\"5\": -6.3,\"4\": -5.47,\"3\": -5.25,\"2\": -4.8,\"1\": -2.46}, index=['% Change Oct Dec'])\n",
    "\n",
    "OctDecChange_df"
   ]
  },
  {
   "cell_type": "markdown",
   "metadata": {},
   "source": [
    "## Combined table of % change in GP attendances in 2020 compared to 2019 by deprivation (5 = most deprived quintile)"
   ]
  },
  {
   "cell_type": "code",
   "execution_count": 20,
   "metadata": {},
   "outputs": [
    {
     "data": {
      "text/html": [
       "<div>\n",
       "<style scoped>\n",
       "    .dataframe tbody tr th:only-of-type {\n",
       "        vertical-align: middle;\n",
       "    }\n",
       "\n",
       "    .dataframe tbody tr th {\n",
       "        vertical-align: top;\n",
       "    }\n",
       "\n",
       "    .dataframe thead th {\n",
       "        text-align: right;\n",
       "    }\n",
       "</style>\n",
       "<table border=\"1\" class=\"dataframe\">\n",
       "  <thead>\n",
       "    <tr style=\"text-align: right;\">\n",
       "      <th></th>\n",
       "      <th>5</th>\n",
       "      <th>4</th>\n",
       "      <th>3</th>\n",
       "      <th>2</th>\n",
       "      <th>1</th>\n",
       "    </tr>\n",
       "  </thead>\n",
       "  <tbody>\n",
       "    <tr>\n",
       "      <th>% Change Mar Sep</th>\n",
       "      <td>-16.4</td>\n",
       "      <td>-14.85</td>\n",
       "      <td>-13.85</td>\n",
       "      <td>-16.01</td>\n",
       "      <td>-15.40</td>\n",
       "    </tr>\n",
       "    <tr>\n",
       "      <th>% Change Oct Dec</th>\n",
       "      <td>-6.3</td>\n",
       "      <td>-5.47</td>\n",
       "      <td>-5.25</td>\n",
       "      <td>-4.80</td>\n",
       "      <td>-2.46</td>\n",
       "    </tr>\n",
       "  </tbody>\n",
       "</table>\n",
       "</div>"
      ],
      "text/plain": [
       "                     5      4      3      2      1\n",
       "% Change Mar Sep -16.4 -14.85 -13.85 -16.01 -15.40\n",
       "% Change Oct Dec  -6.3  -5.47  -5.25  -4.80  -2.46"
      ]
     },
     "execution_count": 20,
     "metadata": {},
     "output_type": "execute_result"
    }
   ],
   "source": [
    "ReductionGPattendances = pd.concat([MarSepChange_df, OctDecChange_df])\n",
    "ReductionGPattendances"
   ]
  },
  {
   "cell_type": "markdown",
   "metadata": {},
   "source": [
    "## Plotting correlations between GP attendances and deprivation level\n",
    "\n",
    "* Scatter plot of deprivation level by CCG (indicated by IMD scores) vs change in GP attendances.\n",
    "* Deprivation level data by CCG can be downloaded [here](https://fingertips.phe.org.uk/profile/cancerservices/data#page/3/gid/1938133365/pat/15/par/E92000001/ati/166/are/E38000004/iid/93553/age/1/sex/4/cid/4/page-options/ovw-do-0_car-do-0).\n",
    "\n",
    "### Data munging"
   ]
  },
  {
   "cell_type": "code",
   "execution_count": 21,
   "metadata": {},
   "outputs": [],
   "source": [
    "# % change for Mar-Sep 2019 vs Mar-Sep 2020 by CCG \n",
    "MarSep2019CCG = MarSep2019.groupby('CCG_ONS_CODE')['COUNT_OF_APPOINTMENTS'].sum()\n",
    "#print(MarSep2019CCG)\n",
    "\n",
    "MarSep2020CCG = MarSep2020.groupby('CCG_ONS_CODE')['COUNT_OF_APPOINTMENTS'].sum()\n",
    "#print(MarSep2020CCG)\n",
    "\n",
    "MarSepCCGChange = 100* ((MarSep2020CCG-MarSep2019CCG)/MarSep2019CCG)\n",
    "#print(MarSepCCGChange)\n",
    "\n",
    "# % change for Oct-Dec 2019 vs Oct-Dec 2020 by CCG \n",
    "OctDec2019CCG = OctDec2019.groupby('CCG_ONS_CODE')['COUNT_OF_APPOINTMENTS'].sum()\n",
    "OctDec2020CCG = OctDec2020.groupby('CCG_ONS_CODE')['COUNT_OF_APPOINTMENTS'].sum()\n",
    "# print(OctDec2019CCG)\n",
    "# print(OctDec2020CCG)\n",
    "OctDecCCGChange = 100* ((OctDec2020CCG-OctDec2019CCG)/OctDec2019CCG)\n",
    "# print(OctDecCCGChange)"
   ]
  },
  {
   "cell_type": "code",
   "execution_count": 22,
   "metadata": {},
   "outputs": [],
   "source": [
    "# Convert both CCG Change into a table dataframe\n",
    "MSccg = pd.DataFrame(MarSepCCGChange)\n",
    "ODccg = pd.DataFrame(OctDecCCGChange)"
   ]
  },
  {
   "cell_type": "code",
   "execution_count": 23,
   "metadata": {},
   "outputs": [],
   "source": [
    "#rename Count of Appt column to % reduction \n",
    "MSccg.rename(columns={'COUNT_OF_APPOINTMENTS': '% Change Mar Sep'}, inplace=True)\n",
    "ODccg.rename(columns={'COUNT_OF_APPOINTMENTS': '% Change Oct Dec'}, inplace=True)"
   ]
  },
  {
   "cell_type": "markdown",
   "metadata": {},
   "source": [
    "### Data merging"
   ]
  },
  {
   "cell_type": "code",
   "execution_count": 24,
   "metadata": {
    "scrolled": true
   },
   "outputs": [
    {
     "data": {
      "text/html": [
       "<div>\n",
       "<style scoped>\n",
       "    .dataframe tbody tr th:only-of-type {\n",
       "        vertical-align: middle;\n",
       "    }\n",
       "\n",
       "    .dataframe tbody tr th {\n",
       "        vertical-align: top;\n",
       "    }\n",
       "\n",
       "    .dataframe thead th {\n",
       "        text-align: right;\n",
       "    }\n",
       "</style>\n",
       "<table border=\"1\" class=\"dataframe\">\n",
       "  <thead>\n",
       "    <tr style=\"text-align: right;\">\n",
       "      <th></th>\n",
       "      <th>CCG_ONS_CODE</th>\n",
       "      <th>% Change Mar Sep</th>\n",
       "      <th>% Change Oct Dec</th>\n",
       "    </tr>\n",
       "  </thead>\n",
       "  <tbody>\n",
       "    <tr>\n",
       "      <th>0</th>\n",
       "      <td>E38000004</td>\n",
       "      <td>-14.889947</td>\n",
       "      <td>-4.103851</td>\n",
       "    </tr>\n",
       "    <tr>\n",
       "      <th>1</th>\n",
       "      <td>E38000006</td>\n",
       "      <td>-16.928843</td>\n",
       "      <td>-8.879786</td>\n",
       "    </tr>\n",
       "    <tr>\n",
       "      <th>2</th>\n",
       "      <td>E38000007</td>\n",
       "      <td>-10.581223</td>\n",
       "      <td>-1.198378</td>\n",
       "    </tr>\n",
       "    <tr>\n",
       "      <th>3</th>\n",
       "      <td>E38000008</td>\n",
       "      <td>-15.520335</td>\n",
       "      <td>-6.763801</td>\n",
       "    </tr>\n",
       "    <tr>\n",
       "      <th>4</th>\n",
       "      <td>E38000010</td>\n",
       "      <td>-10.700605</td>\n",
       "      <td>-3.327124</td>\n",
       "    </tr>\n",
       "  </tbody>\n",
       "</table>\n",
       "</div>"
      ],
      "text/plain": [
       "  CCG_ONS_CODE  % Change Mar Sep  % Change Oct Dec\n",
       "0    E38000004        -14.889947         -4.103851\n",
       "1    E38000006        -16.928843         -8.879786\n",
       "2    E38000007        -10.581223         -1.198378\n",
       "3    E38000008        -15.520335         -6.763801\n",
       "4    E38000010        -10.700605         -3.327124"
      ]
     },
     "execution_count": 24,
     "metadata": {},
     "output_type": "execute_result"
    }
   ],
   "source": [
    "# merge the two tables\n",
    "CCG = pd.merge(left=MSccg, right=ODccg, on='CCG_ONS_CODE') \n",
    "# reset index\n",
    "CCG = CCG.reset_index()\n",
    "CCG.head()"
   ]
  },
  {
   "cell_type": "code",
   "execution_count": 25,
   "metadata": {
    "scrolled": false
   },
   "outputs": [
    {
     "data": {
      "text/html": [
       "<div>\n",
       "<style scoped>\n",
       "    .dataframe tbody tr th:only-of-type {\n",
       "        vertical-align: middle;\n",
       "    }\n",
       "\n",
       "    .dataframe tbody tr th {\n",
       "        vertical-align: top;\n",
       "    }\n",
       "\n",
       "    .dataframe thead th {\n",
       "        text-align: right;\n",
       "    }\n",
       "</style>\n",
       "<table border=\"1\" class=\"dataframe\">\n",
       "  <thead>\n",
       "    <tr style=\"text-align: right;\">\n",
       "      <th></th>\n",
       "      <th>CCG_ONS_CODE</th>\n",
       "      <th>% Change Mar Sep</th>\n",
       "      <th>% Change Oct Dec</th>\n",
       "      <th>IMD Scores</th>\n",
       "    </tr>\n",
       "  </thead>\n",
       "  <tbody>\n",
       "    <tr>\n",
       "      <th>0</th>\n",
       "      <td>E38000004</td>\n",
       "      <td>-14.889947</td>\n",
       "      <td>-4.103851</td>\n",
       "      <td>32.768</td>\n",
       "    </tr>\n",
       "    <tr>\n",
       "      <th>1</th>\n",
       "      <td>E38000006</td>\n",
       "      <td>-16.928843</td>\n",
       "      <td>-8.879786</td>\n",
       "      <td>29.933</td>\n",
       "    </tr>\n",
       "    <tr>\n",
       "      <th>2</th>\n",
       "      <td>E38000007</td>\n",
       "      <td>-10.581223</td>\n",
       "      <td>-1.198378</td>\n",
       "      <td>19.329</td>\n",
       "    </tr>\n",
       "    <tr>\n",
       "      <th>3</th>\n",
       "      <td>E38000008</td>\n",
       "      <td>-15.520335</td>\n",
       "      <td>-6.763801</td>\n",
       "      <td>22.588</td>\n",
       "    </tr>\n",
       "    <tr>\n",
       "      <th>4</th>\n",
       "      <td>E38000010</td>\n",
       "      <td>-10.700605</td>\n",
       "      <td>-3.327124</td>\n",
       "      <td>14.721</td>\n",
       "    </tr>\n",
       "  </tbody>\n",
       "</table>\n",
       "</div>"
      ],
      "text/plain": [
       "  CCG_ONS_CODE  % Change Mar Sep  % Change Oct Dec  IMD Scores\n",
       "0    E38000004        -14.889947         -4.103851      32.768\n",
       "1    E38000006        -16.928843         -8.879786      29.933\n",
       "2    E38000007        -10.581223         -1.198378      19.329\n",
       "3    E38000008        -15.520335         -6.763801      22.588\n",
       "4    E38000010        -10.700605         -3.327124      14.721"
      ]
     },
     "execution_count": 25,
     "metadata": {},
     "output_type": "execute_result"
    }
   ],
   "source": [
    "#  add in IMD scores for each CCG\n",
    "CCG[\"IMD Scores\"] = CCG.CCG_ONS_CODE.map(deprivation.set_index('Area Code')['Value'])\n",
    "CCG.head()"
   ]
  },
  {
   "cell_type": "markdown",
   "metadata": {},
   "source": [
    "### Plotting correlations between GP attendances and deprivation"
   ]
  },
  {
   "cell_type": "code",
   "execution_count": 26,
   "metadata": {
    "scrolled": false
   },
   "outputs": [
    {
     "data": {
      "image/png": "[encoded data removed]",
      "text/plain": [
       "<Figure size 432x288 with 1 Axes>"
      ]
     },
     "metadata": {
      "needs_background": "light"
     },
     "output_type": "display_data"
    }
   ],
   "source": [
    "# Scatter plots of two y-axis \n",
    "import matplotlib.pyplot as plt\n",
    "\n",
    "plt.scatter(CCG['IMD Scores'], CCG['% Change Mar Sep'])\n",
    "plt.scatter(CCG['IMD Scores'], CCG['% Change Oct Dec'])\n",
    "classes = ['Mar to Sept % Reduction', 'Oct to Dec % Reduction']\n",
    "plt.ylabel('% Reduction')\n",
    "plt.xlabel('IMD Scores (higher=more deprived)')\n",
    "plt.title(\"% Reduction in GP attendances 2019-2020 by IMD scores\")\n",
    "plt.legend(labels=classes)\n",
    "plt.show()\n",
    "\n",
    "# plt.scatter(CCG['IMD Scores'], CCG['% Change Mar Sep'])\n",
    "# plt.ylabel('% Reduction')\n",
    "# plt.xlabel('IMD Scores')\n",
    "# plt.show()\n",
    "# CCG.plot.scatter(x='IMD Scores', y='% Change Mar Sep')"
   ]
  },
  {
   "cell_type": "markdown",
   "metadata": {},
   "source": [
    "### Find correlations"
   ]
  },
  {
   "cell_type": "code",
   "execution_count": 27,
   "metadata": {},
   "outputs": [
    {
     "data": {
      "text/html": [
       "<div>\n",
       "<style scoped>\n",
       "    .dataframe tbody tr th:only-of-type {\n",
       "        vertical-align: middle;\n",
       "    }\n",
       "\n",
       "    .dataframe tbody tr th {\n",
       "        vertical-align: top;\n",
       "    }\n",
       "\n",
       "    .dataframe thead th {\n",
       "        text-align: right;\n",
       "    }\n",
       "</style>\n",
       "<table border=\"1\" class=\"dataframe\">\n",
       "  <thead>\n",
       "    <tr style=\"text-align: right;\">\n",
       "      <th></th>\n",
       "      <th>% Change Mar Sep</th>\n",
       "      <th>% Change Oct Dec</th>\n",
       "      <th>IMD Scores</th>\n",
       "    </tr>\n",
       "  </thead>\n",
       "  <tbody>\n",
       "    <tr>\n",
       "      <th>% Change Mar Sep</th>\n",
       "      <td>1.000000</td>\n",
       "      <td>0.663739</td>\n",
       "      <td>0.035471</td>\n",
       "    </tr>\n",
       "    <tr>\n",
       "      <th>% Change Oct Dec</th>\n",
       "      <td>0.663739</td>\n",
       "      <td>1.000000</td>\n",
       "      <td>-0.164466</td>\n",
       "    </tr>\n",
       "    <tr>\n",
       "      <th>IMD Scores</th>\n",
       "      <td>0.035471</td>\n",
       "      <td>-0.164466</td>\n",
       "      <td>1.000000</td>\n",
       "    </tr>\n",
       "  </tbody>\n",
       "</table>\n",
       "</div>"
      ],
      "text/plain": [
       "                  % Change Mar Sep  % Change Oct Dec  IMD Scores\n",
       "% Change Mar Sep          1.000000          0.663739    0.035471\n",
       "% Change Oct Dec          0.663739          1.000000   -0.164466\n",
       "IMD Scores                0.035471         -0.164466    1.000000"
      ]
     },
     "execution_count": 27,
     "metadata": {},
     "output_type": "execute_result"
    }
   ],
   "source": [
    "CCG.corr()"
   ]
  },
  {
   "cell_type": "markdown",
   "metadata": {},
   "source": [
    "### Have GP attendances dropped more in more deprived CCGs?\n",
    "\n",
    "No strong correlations between GP attendance reduction & deprivation (IMD scores) as seen in both scatter plots and Pearson correlation coefficients.  Now let's move on to age..."
   ]
  },
  {
   "cell_type": "markdown",
   "metadata": {},
   "source": [
    "## % change in GP attendances by percentage of patients over 65\n",
    "\n",
    "### Read in age data and combine the datasets"
   ]
  },
  {
   "cell_type": "code",
   "execution_count": 28,
   "metadata": {},
   "outputs": [
    {
     "data": {
      "text/html": [
       "<div>\n",
       "<style scoped>\n",
       "    .dataframe tbody tr th:only-of-type {\n",
       "        vertical-align: middle;\n",
       "    }\n",
       "\n",
       "    .dataframe tbody tr th {\n",
       "        vertical-align: top;\n",
       "    }\n",
       "\n",
       "    .dataframe thead th {\n",
       "        text-align: right;\n",
       "    }\n",
       "</style>\n",
       "<table border=\"1\" class=\"dataframe\">\n",
       "  <thead>\n",
       "    <tr style=\"text-align: right;\">\n",
       "      <th></th>\n",
       "      <th>Indicator ID</th>\n",
       "      <th>Indicator Name</th>\n",
       "      <th>Parent Code</th>\n",
       "      <th>Parent Name</th>\n",
       "      <th>Area Code</th>\n",
       "      <th>AreaName</th>\n",
       "      <th>Area Type</th>\n",
       "      <th>Sex</th>\n",
       "      <th>Age</th>\n",
       "      <th>Category Type</th>\n",
       "      <th>Category</th>\n",
       "      <th>Time period</th>\n",
       "      <th>Value</th>\n",
       "      <th>Lower CI 95.0 limit</th>\n",
       "      <th>Upper CI 95.0 limit</th>\n",
       "      <th>Lower CI 99.8 limit</th>\n",
       "      <th>Upper CI 99.8 limit</th>\n",
       "      <th>Count</th>\n",
       "      <th>Denominator</th>\n",
       "      <th>Value note</th>\n",
       "      <th>Recent Trend</th>\n",
       "      <th>Compared to England value or percentiles</th>\n",
       "      <th>Compared to parent value or percentiles</th>\n",
       "      <th>Time period Sortable</th>\n",
       "      <th>New data</th>\n",
       "      <th>Compared to goal</th>\n",
       "    </tr>\n",
       "  </thead>\n",
       "  <tbody>\n",
       "    <tr>\n",
       "      <th>0</th>\n",
       "      <td>336</td>\n",
       "      <td>% aged 65+ years</td>\n",
       "      <td>NaN</td>\n",
       "      <td>NaN</td>\n",
       "      <td>E92000001</td>\n",
       "      <td>England</td>\n",
       "      <td>England</td>\n",
       "      <td>Persons</td>\n",
       "      <td>65+ yrs</td>\n",
       "      <td>NaN</td>\n",
       "      <td>NaN</td>\n",
       "      <td>2020</td>\n",
       "      <td>17.515917</td>\n",
       "      <td>17.506337</td>\n",
       "      <td>17.525502</td>\n",
       "      <td>17.500813</td>\n",
       "      <td>17.531032</td>\n",
       "      <td>10,586,109</td>\n",
       "      <td>60437080</td>\n",
       "      <td>&lt;span class=\"tooltipValueNote\"&gt;* Aggregated fr...</td>\n",
       "      <td>Increasing</td>\n",
       "      <td>NaN</td>\n",
       "      <td>NaN</td>\n",
       "      <td>20200000</td>\n",
       "      <td>NaN</td>\n",
       "      <td>NaN</td>\n",
       "    </tr>\n",
       "    <tr>\n",
       "      <th>1</th>\n",
       "      <td>336</td>\n",
       "      <td>% aged 65+ years</td>\n",
       "      <td>E92000001</td>\n",
       "      <td>England</td>\n",
       "      <td>E38000087</td>\n",
       "      <td>NHS Isle Of Wight CCG</td>\n",
       "      <td>CCGs (since 4/20)</td>\n",
       "      <td>Persons</td>\n",
       "      <td>65+ yrs</td>\n",
       "      <td>NaN</td>\n",
       "      <td>NaN</td>\n",
       "      <td>2020</td>\n",
       "      <td>28.307600</td>\n",
       "      <td>NaN</td>\n",
       "      <td>NaN</td>\n",
       "      <td>NaN</td>\n",
       "      <td>NaN</td>\n",
       "      <td>41,027</td>\n",
       "      <td>144933</td>\n",
       "      <td>NaN</td>\n",
       "      <td>Increasing</td>\n",
       "      <td>Highest quintile</td>\n",
       "      <td>Highest quintile</td>\n",
       "      <td>20200000</td>\n",
       "      <td>NaN</td>\n",
       "      <td>NaN</td>\n",
       "    </tr>\n",
       "    <tr>\n",
       "      <th>2</th>\n",
       "      <td>336</td>\n",
       "      <td>% aged 65+ years</td>\n",
       "      <td>E92000001</td>\n",
       "      <td>England</td>\n",
       "      <td>E38000226</td>\n",
       "      <td>NHS Fylde &amp; Wyre CCG</td>\n",
       "      <td>CCGs (since 4/20)</td>\n",
       "      <td>Persons</td>\n",
       "      <td>65+ yrs</td>\n",
       "      <td>NaN</td>\n",
       "      <td>NaN</td>\n",
       "      <td>2020</td>\n",
       "      <td>27.293300</td>\n",
       "      <td>NaN</td>\n",
       "      <td>NaN</td>\n",
       "      <td>NaN</td>\n",
       "      <td>NaN</td>\n",
       "      <td>48,944</td>\n",
       "      <td>179326</td>\n",
       "      <td>NaN</td>\n",
       "      <td>Increasing</td>\n",
       "      <td>Highest quintile</td>\n",
       "      <td>Highest quintile</td>\n",
       "      <td>20200000</td>\n",
       "      <td>NaN</td>\n",
       "      <td>NaN</td>\n",
       "    </tr>\n",
       "    <tr>\n",
       "      <th>3</th>\n",
       "      <td>336</td>\n",
       "      <td>% aged 65+ years</td>\n",
       "      <td>E92000001</td>\n",
       "      <td>England</td>\n",
       "      <td>E38000170</td>\n",
       "      <td>NHS Southport And Formby CCG</td>\n",
       "      <td>CCGs (since 4/20)</td>\n",
       "      <td>Persons</td>\n",
       "      <td>65+ yrs</td>\n",
       "      <td>NaN</td>\n",
       "      <td>NaN</td>\n",
       "      <td>2020</td>\n",
       "      <td>26.107400</td>\n",
       "      <td>NaN</td>\n",
       "      <td>NaN</td>\n",
       "      <td>NaN</td>\n",
       "      <td>NaN</td>\n",
       "      <td>32,806</td>\n",
       "      <td>125658</td>\n",
       "      <td>NaN</td>\n",
       "      <td>Increasing</td>\n",
       "      <td>Highest quintile</td>\n",
       "      <td>Highest quintile</td>\n",
       "      <td>20200000</td>\n",
       "      <td>NaN</td>\n",
       "      <td>NaN</td>\n",
       "    </tr>\n",
       "    <tr>\n",
       "      <th>4</th>\n",
       "      <td>336</td>\n",
       "      <td>% aged 65+ years</td>\n",
       "      <td>E92000001</td>\n",
       "      <td>England</td>\n",
       "      <td>E38000052</td>\n",
       "      <td>NHS East Riding Of Yorkshire CCG</td>\n",
       "      <td>CCGs (since 4/20)</td>\n",
       "      <td>Persons</td>\n",
       "      <td>65+ yrs</td>\n",
       "      <td>NaN</td>\n",
       "      <td>NaN</td>\n",
       "      <td>2020</td>\n",
       "      <td>25.948600</td>\n",
       "      <td>NaN</td>\n",
       "      <td>NaN</td>\n",
       "      <td>NaN</td>\n",
       "      <td>NaN</td>\n",
       "      <td>79,698</td>\n",
       "      <td>307138</td>\n",
       "      <td>NaN</td>\n",
       "      <td>Increasing</td>\n",
       "      <td>Highest quintile</td>\n",
       "      <td>Highest quintile</td>\n",
       "      <td>20200000</td>\n",
       "      <td>NaN</td>\n",
       "      <td>NaN</td>\n",
       "    </tr>\n",
       "  </tbody>\n",
       "</table>\n",
       "</div>"
      ],
      "text/plain": [
       "   Indicator ID    Indicator Name Parent Code Parent Name  Area Code  \\\n",
       "0           336  % aged 65+ years         NaN         NaN  E92000001   \n",
       "1           336  % aged 65+ years   E92000001     England  E38000087   \n",
       "2           336  % aged 65+ years   E92000001     England  E38000226   \n",
       "3           336  % aged 65+ years   E92000001     England  E38000170   \n",
       "4           336  % aged 65+ years   E92000001     England  E38000052   \n",
       "\n",
       "                           AreaName          Area Type      Sex      Age  \\\n",
       "0                           England            England  Persons  65+ yrs   \n",
       "1             NHS Isle Of Wight CCG  CCGs (since 4/20)  Persons  65+ yrs   \n",
       "2              NHS Fylde & Wyre CCG  CCGs (since 4/20)  Persons  65+ yrs   \n",
       "3      NHS Southport And Formby CCG  CCGs (since 4/20)  Persons  65+ yrs   \n",
       "4  NHS East Riding Of Yorkshire CCG  CCGs (since 4/20)  Persons  65+ yrs   \n",
       "\n",
       "   Category Type  Category  Time period      Value  Lower CI 95.0 limit  \\\n",
       "0            NaN       NaN         2020  17.515917            17.506337   \n",
       "1            NaN       NaN         2020  28.307600                  NaN   \n",
       "2            NaN       NaN         2020  27.293300                  NaN   \n",
       "3            NaN       NaN         2020  26.107400                  NaN   \n",
       "4            NaN       NaN         2020  25.948600                  NaN   \n",
       "\n",
       "   Upper CI 95.0 limit  Lower CI 99.8 limit  Upper CI 99.8 limit       Count  \\\n",
       "0            17.525502            17.500813            17.531032  10,586,109   \n",
       "1                  NaN                  NaN                  NaN      41,027   \n",
       "2                  NaN                  NaN                  NaN      48,944   \n",
       "3                  NaN                  NaN                  NaN      32,806   \n",
       "4                  NaN                  NaN                  NaN      79,698   \n",
       "\n",
       "   Denominator                                         Value note  \\\n",
       "0     60437080  <span class=\"tooltipValueNote\">* Aggregated fr...   \n",
       "1       144933                                                NaN   \n",
       "2       179326                                                NaN   \n",
       "3       125658                                                NaN   \n",
       "4       307138                                                NaN   \n",
       "\n",
       "  Recent Trend Compared to England value or percentiles  \\\n",
       "0   Increasing                                      NaN   \n",
       "1   Increasing                         Highest quintile   \n",
       "2   Increasing                         Highest quintile   \n",
       "3   Increasing                         Highest quintile   \n",
       "4   Increasing                         Highest quintile   \n",
       "\n",
       "  Compared to parent value or percentiles  Time period Sortable  New data  \\\n",
       "0                                     NaN              20200000       NaN   \n",
       "1                        Highest quintile              20200000       NaN   \n",
       "2                        Highest quintile              20200000       NaN   \n",
       "3                        Highest quintile              20200000       NaN   \n",
       "4                        Highest quintile              20200000       NaN   \n",
       "\n",
       "   Compared to goal  \n",
       "0               NaN  \n",
       "1               NaN  \n",
       "2               NaN  \n",
       "3               NaN  \n",
       "4               NaN  "
      ]
     },
     "execution_count": 28,
     "metadata": {},
     "output_type": "execute_result"
    }
   ],
   "source": [
    "# read in & assign % 65+ to each CCG so I can calculate % change by % 65+ \n",
    "age = pd.read_csv(\"Compare_areas_age.csv\")\n",
    "age.head()"
   ]
  },
  {
   "cell_type": "code",
   "execution_count": 29,
   "metadata": {
    "scrolled": true
   },
   "outputs": [
    {
     "data": {
      "text/html": [
       "<div>\n",
       "<style scoped>\n",
       "    .dataframe tbody tr th:only-of-type {\n",
       "        vertical-align: middle;\n",
       "    }\n",
       "\n",
       "    .dataframe tbody tr th {\n",
       "        vertical-align: top;\n",
       "    }\n",
       "\n",
       "    .dataframe thead th {\n",
       "        text-align: right;\n",
       "    }\n",
       "</style>\n",
       "<table border=\"1\" class=\"dataframe\">\n",
       "  <thead>\n",
       "    <tr style=\"text-align: right;\">\n",
       "      <th></th>\n",
       "      <th>CCG_CODE</th>\n",
       "      <th>CCG_ONS_CODE</th>\n",
       "      <th>CCG_NAME</th>\n",
       "      <th>STP_ONS_CODE</th>\n",
       "      <th>REGION_ONS_CODE</th>\n",
       "      <th>Appointment_Date</th>\n",
       "      <th>APPT_STATUS</th>\n",
       "      <th>HCP_TYPE</th>\n",
       "      <th>APPT_MODE</th>\n",
       "      <th>TIME_BETWEEN_BOOK_AND_APPT</th>\n",
       "      <th>COUNT_OF_APPOINTMENTS</th>\n",
       "      <th>IMD Quintiles</th>\n",
       "      <th>% 65+ Quintiles</th>\n",
       "    </tr>\n",
       "  </thead>\n",
       "  <tbody>\n",
       "    <tr>\n",
       "      <th>0</th>\n",
       "      <td>00L</td>\n",
       "      <td>E38000130</td>\n",
       "      <td>NHS Northumberland CCG</td>\n",
       "      <td>E54000050</td>\n",
       "      <td>E40000009</td>\n",
       "      <td>02NOV2020</td>\n",
       "      <td>Unknown</td>\n",
       "      <td>Unknown</td>\n",
       "      <td>Unknown</td>\n",
       "      <td>15  to 21 Days</td>\n",
       "      <td>1</td>\n",
       "      <td>Middle quintile</td>\n",
       "      <td>Highest quintile</td>\n",
       "    </tr>\n",
       "    <tr>\n",
       "      <th>1</th>\n",
       "      <td>00L</td>\n",
       "      <td>E38000130</td>\n",
       "      <td>NHS Northumberland CCG</td>\n",
       "      <td>E54000050</td>\n",
       "      <td>E40000009</td>\n",
       "      <td>02NOV2020</td>\n",
       "      <td>Unknown</td>\n",
       "      <td>Other Practice staff</td>\n",
       "      <td>Face-to-Face</td>\n",
       "      <td>Same Day</td>\n",
       "      <td>5</td>\n",
       "      <td>Middle quintile</td>\n",
       "      <td>Highest quintile</td>\n",
       "    </tr>\n",
       "    <tr>\n",
       "      <th>2</th>\n",
       "      <td>00L</td>\n",
       "      <td>E38000130</td>\n",
       "      <td>NHS Northumberland CCG</td>\n",
       "      <td>E54000050</td>\n",
       "      <td>E40000009</td>\n",
       "      <td>02NOV2020</td>\n",
       "      <td>DNA</td>\n",
       "      <td>GP</td>\n",
       "      <td>Face-to-Face</td>\n",
       "      <td>Same Day</td>\n",
       "      <td>10</td>\n",
       "      <td>Middle quintile</td>\n",
       "      <td>Highest quintile</td>\n",
       "    </tr>\n",
       "    <tr>\n",
       "      <th>3</th>\n",
       "      <td>00L</td>\n",
       "      <td>E38000130</td>\n",
       "      <td>NHS Northumberland CCG</td>\n",
       "      <td>E54000050</td>\n",
       "      <td>E40000009</td>\n",
       "      <td>02NOV2020</td>\n",
       "      <td>Attended</td>\n",
       "      <td>GP</td>\n",
       "      <td>Telephone</td>\n",
       "      <td>More than 28 Days</td>\n",
       "      <td>8</td>\n",
       "      <td>Middle quintile</td>\n",
       "      <td>Highest quintile</td>\n",
       "    </tr>\n",
       "    <tr>\n",
       "      <th>4</th>\n",
       "      <td>00L</td>\n",
       "      <td>E38000130</td>\n",
       "      <td>NHS Northumberland CCG</td>\n",
       "      <td>E54000050</td>\n",
       "      <td>E40000009</td>\n",
       "      <td>02NOV2020</td>\n",
       "      <td>DNA</td>\n",
       "      <td>Other Practice staff</td>\n",
       "      <td>Telephone</td>\n",
       "      <td>Same Day</td>\n",
       "      <td>2</td>\n",
       "      <td>Middle quintile</td>\n",
       "      <td>Highest quintile</td>\n",
       "    </tr>\n",
       "  </tbody>\n",
       "</table>\n",
       "</div>"
      ],
      "text/plain": [
       "  CCG_CODE CCG_ONS_CODE                CCG_NAME STP_ONS_CODE REGION_ONS_CODE  \\\n",
       "0      00L    E38000130  NHS Northumberland CCG    E54000050       E40000009   \n",
       "1      00L    E38000130  NHS Northumberland CCG    E54000050       E40000009   \n",
       "2      00L    E38000130  NHS Northumberland CCG    E54000050       E40000009   \n",
       "3      00L    E38000130  NHS Northumberland CCG    E54000050       E40000009   \n",
       "4      00L    E38000130  NHS Northumberland CCG    E54000050       E40000009   \n",
       "\n",
       "  Appointment_Date APPT_STATUS              HCP_TYPE     APPT_MODE  \\\n",
       "0        02NOV2020     Unknown               Unknown       Unknown   \n",
       "1        02NOV2020     Unknown  Other Practice staff  Face-to-Face   \n",
       "2        02NOV2020         DNA                    GP  Face-to-Face   \n",
       "3        02NOV2020    Attended                    GP     Telephone   \n",
       "4        02NOV2020         DNA  Other Practice staff     Telephone   \n",
       "\n",
       "  TIME_BETWEEN_BOOK_AND_APPT  COUNT_OF_APPOINTMENTS    IMD Quintiles  \\\n",
       "0             15  to 21 Days                      1  Middle quintile   \n",
       "1                   Same Day                      5  Middle quintile   \n",
       "2                   Same Day                     10  Middle quintile   \n",
       "3          More than 28 Days                      8  Middle quintile   \n",
       "4                   Same Day                      2  Middle quintile   \n",
       "\n",
       "    % 65+ Quintiles  \n",
       "0  Highest quintile  \n",
       "1  Highest quintile  \n",
       "2  Highest quintile  \n",
       "3  Highest quintile  \n",
       "4  Highest quintile  "
      ]
     },
     "execution_count": 29,
     "metadata": {},
     "output_type": "execute_result"
    }
   ],
   "source": [
    "MarSep2019[\"% 65+ Quintiles\"] = MarSep2019.CCG_ONS_CODE.map(age.set_index('Area Code')['Compared to England value or percentiles'])\n",
    "MarSep2020[\"% 65+ Quintiles\"] = MarSep2020.CCG_ONS_CODE.map(age.set_index('Area Code')['Compared to England value or percentiles'])\n",
    "OctDec2019[\"% 65+ Quintiles\"] = OctDec2019.CCG_ONS_CODE.map(age.set_index('Area Code')['Compared to England value or percentiles'])\n",
    "OctDec2020[\"% 65+ Quintiles\"] = OctDec2020.CCG_ONS_CODE.map(age.set_index('Area Code')['Compared to England value or percentiles'])\n",
    "OctDec2020.head()"
   ]
  },
  {
   "cell_type": "markdown",
   "metadata": {},
   "source": [
    "### Checking for missing age values"
   ]
  },
  {
   "cell_type": "code",
   "execution_count": 30,
   "metadata": {
    "scrolled": true
   },
   "outputs": [
    {
     "name": "stdout",
     "output_type": "stream",
     "text": [
      "CCG_CODE                      0\n",
      "CCG_ONS_CODE                  0\n",
      "CCG_NAME                      0\n",
      "STP_ONS_CODE                  0\n",
      "REGION_ONS_CODE               0\n",
      "Appointment_Date              0\n",
      "APPT_STATUS                   0\n",
      "HCP_TYPE                      0\n",
      "APPT_MODE                     0\n",
      "TIME_BETWEEN_BOOK_AND_APPT    0\n",
      "COUNT_OF_APPOINTMENTS         0\n",
      "IMD Quintiles                 0\n",
      "% 65+ Quintiles               0\n",
      "dtype: int64\n",
      "CCG_CODE                      0\n",
      "CCG_ONS_CODE                  0\n",
      "CCG_NAME                      0\n",
      "STP_ONS_CODE                  0\n",
      "REGION_ONS_CODE               0\n",
      "Appointment_Date              0\n",
      "APPT_STATUS                   0\n",
      "HCP_TYPE                      0\n",
      "APPT_MODE                     0\n",
      "TIME_BETWEEN_BOOK_AND_APPT    0\n",
      "COUNT_OF_APPOINTMENTS         0\n",
      "IMD Quintiles                 0\n",
      "% 65+ Quintiles               0\n",
      "dtype: int64\n",
      "CCG_CODE                      0\n",
      "CCG_ONS_CODE                  0\n",
      "CCG_NAME                      0\n",
      "STP_ONS_CODE                  0\n",
      "REGION_ONS_CODE               0\n",
      "Appointment_Date              0\n",
      "APPT_STATUS                   0\n",
      "HCP_TYPE                      0\n",
      "APPT_MODE                     0\n",
      "TIME_BETWEEN_BOOK_AND_APPT    0\n",
      "COUNT_OF_APPOINTMENTS         0\n",
      "IMD Quintiles                 0\n",
      "% 65+ Quintiles               0\n",
      "dtype: int64\n",
      "CCG_CODE                      0\n",
      "CCG_ONS_CODE                  0\n",
      "CCG_NAME                      0\n",
      "STP_ONS_CODE                  0\n",
      "REGION_ONS_CODE               0\n",
      "Appointment_Date              0\n",
      "APPT_STATUS                   0\n",
      "HCP_TYPE                      0\n",
      "APPT_MODE                     0\n",
      "TIME_BETWEEN_BOOK_AND_APPT    0\n",
      "COUNT_OF_APPOINTMENTS         0\n",
      "IMD Quintiles                 0\n",
      "% 65+ Quintiles               0\n",
      "dtype: int64\n"
     ]
    }
   ],
   "source": [
    "#Check if CCGs have missing %age 65+ values\n",
    "print(MarSep2019.isnull().sum()) \n",
    "print(MarSep2020.isnull().sum()) \n",
    "print(OctDec2019.isnull().sum())\n",
    "print(OctDec2020.isnull().sum())"
   ]
  },
  {
   "cell_type": "markdown",
   "metadata": {},
   "source": [
    "### % change in GP attendances by age quintiles during March to September 2020 vs March to September 2019"
   ]
  },
  {
   "cell_type": "code",
   "execution_count": 31,
   "metadata": {
    "scrolled": true
   },
   "outputs": [
    {
     "name": "stdout",
     "output_type": "stream",
     "text": [
      "% 65+ Quintiles\n",
      "2nd highest quintile    32244086\n",
      "2nd lowest quintile     41735626\n",
      "Highest quintile        40943473\n",
      "Lowest quintile         32922018\n",
      "Middle quintile         24202965\n",
      "Name: COUNT_OF_APPOINTMENTS, dtype: int64\n",
      "% 65+ Quintiles\n",
      "2nd highest quintile    27847506\n",
      "2nd lowest quintile     35462714\n",
      "Highest quintile        34249151\n",
      "Lowest quintile         28450748\n",
      "Middle quintile         20346760\n",
      "Name: COUNT_OF_APPOINTMENTS, dtype: int64\n",
      "% 65+ Quintiles\n",
      "2nd highest quintile   -13.635307\n",
      "2nd lowest quintile    -15.030114\n",
      "Highest quintile       -16.350157\n",
      "Lowest quintile        -13.581397\n",
      "Middle quintile        -15.932779\n",
      "Name: COUNT_OF_APPOINTMENTS, dtype: float64\n"
     ]
    }
   ],
   "source": [
    "# % change for Mar-Sep 2019 vs Mar-Sep 2020 by age quintiles\n",
    "MarSep2019age = MarSep2019.groupby('% 65+ Quintiles')['COUNT_OF_APPOINTMENTS'].sum()\n",
    "print(MarSep2019age)\n",
    "MarSep2020age = MarSep2020.groupby('% 65+ Quintiles')['COUNT_OF_APPOINTMENTS'].sum()\n",
    "print(MarSep2020age)\n",
    "MarSepChangeAge = 100* ((MarSep2020age-MarSep2019age)/MarSep2019age)\n",
    "print(MarSepChangeAge)"
   ]
  },
  {
   "cell_type": "markdown",
   "metadata": {},
   "source": [
    "### Convert % change into a table and assign 5 to highest quintile"
   ]
  },
  {
   "cell_type": "code",
   "execution_count": 32,
   "metadata": {
    "scrolled": true
   },
   "outputs": [
    {
     "data": {
      "text/html": [
       "<div>\n",
       "<style scoped>\n",
       "    .dataframe tbody tr th:only-of-type {\n",
       "        vertical-align: middle;\n",
       "    }\n",
       "\n",
       "    .dataframe tbody tr th {\n",
       "        vertical-align: top;\n",
       "    }\n",
       "\n",
       "    .dataframe thead th {\n",
       "        text-align: right;\n",
       "    }\n",
       "</style>\n",
       "<table border=\"1\" class=\"dataframe\">\n",
       "  <thead>\n",
       "    <tr style=\"text-align: right;\">\n",
       "      <th></th>\n",
       "      <th>5</th>\n",
       "      <th>4</th>\n",
       "      <th>3</th>\n",
       "      <th>2</th>\n",
       "      <th>1</th>\n",
       "    </tr>\n",
       "  </thead>\n",
       "  <tbody>\n",
       "    <tr>\n",
       "      <th>% Reduction Mar-Sep</th>\n",
       "      <td>-16.4</td>\n",
       "      <td>-13.6</td>\n",
       "      <td>-15.9</td>\n",
       "      <td>-15.0</td>\n",
       "      <td>-13.6</td>\n",
       "    </tr>\n",
       "  </tbody>\n",
       "</table>\n",
       "</div>"
      ],
      "text/plain": [
       "                        5     4     3     2     1\n",
       "% Reduction Mar-Sep -16.4 -13.6 -15.9 -15.0 -13.6"
      ]
     },
     "execution_count": 32,
     "metadata": {},
     "output_type": "execute_result"
    }
   ],
   "source": [
    "# Convert % Change into a dataframe by assigning 5 to highest quintile\n",
    "MarSepChange_age = pd.DataFrame({\"5\": -16.4,\"4\": -13.6,\"3\": -15.9,\"2\": -15.0,\"1\": -13.6}, index=['% Reduction Mar-Sep'])\n",
    "\n",
    "MarSepChange_age"
   ]
  },
  {
   "cell_type": "markdown",
   "metadata": {},
   "source": [
    "### % change in GP attendances by age quintile during Oct to Dec 2020 vs Oct to Dec 2019"
   ]
  },
  {
   "cell_type": "code",
   "execution_count": 33,
   "metadata": {},
   "outputs": [
    {
     "name": "stdout",
     "output_type": "stream",
     "text": [
      "% 65+ Quintiles\n",
      "2nd highest quintile    15200403\n",
      "2nd lowest quintile     19514091\n",
      "Highest quintile        19123123\n",
      "Lowest quintile         15211596\n",
      "Middle quintile         11338705\n",
      "Name: COUNT_OF_APPOINTMENTS, dtype: int64\n",
      "% 65+ Quintiles\n",
      "2nd highest quintile    14826375\n",
      "2nd lowest quintile     18520656\n",
      "Highest quintile        17939627\n",
      "Lowest quintile         15015232\n",
      "Middle quintile         10731592\n",
      "Name: COUNT_OF_APPOINTMENTS, dtype: int64\n",
      "% 65+ Quintiles\n",
      "2nd highest quintile   -2.460645\n",
      "2nd lowest quintile    -5.090860\n",
      "Highest quintile       -6.188822\n",
      "Lowest quintile        -1.290884\n",
      "Middle quintile        -5.354342\n",
      "Name: COUNT_OF_APPOINTMENTS, dtype: float64\n"
     ]
    }
   ],
   "source": [
    "# % change for Oct-Dec 2019 vs Oct-Dec 2020 by age quintiles (highest quintile = highest proportion aged 65+)\n",
    "OctDec2019age = OctDec2019.groupby('% 65+ Quintiles')['COUNT_OF_APPOINTMENTS'].sum()\n",
    "OctDec2020age = OctDec2020.groupby('% 65+ Quintiles')['COUNT_OF_APPOINTMENTS'].sum()\n",
    "print(OctDec2019age)\n",
    "print(OctDec2020age)\n",
    "OctDecChangeAge = 100* ((OctDec2020age-OctDec2019age)/OctDec2019age)\n",
    "print(OctDecChangeAge)"
   ]
  },
  {
   "cell_type": "code",
   "execution_count": 34,
   "metadata": {
    "scrolled": true
   },
   "outputs": [
    {
     "data": {
      "text/html": [
       "<div>\n",
       "<style scoped>\n",
       "    .dataframe tbody tr th:only-of-type {\n",
       "        vertical-align: middle;\n",
       "    }\n",
       "\n",
       "    .dataframe tbody tr th {\n",
       "        vertical-align: top;\n",
       "    }\n",
       "\n",
       "    .dataframe thead th {\n",
       "        text-align: right;\n",
       "    }\n",
       "</style>\n",
       "<table border=\"1\" class=\"dataframe\">\n",
       "  <thead>\n",
       "    <tr style=\"text-align: right;\">\n",
       "      <th></th>\n",
       "      <th>5</th>\n",
       "      <th>4</th>\n",
       "      <th>3</th>\n",
       "      <th>2</th>\n",
       "      <th>1</th>\n",
       "    </tr>\n",
       "  </thead>\n",
       "  <tbody>\n",
       "    <tr>\n",
       "      <th>% Reduction Oct-Dec</th>\n",
       "      <td>-6.2</td>\n",
       "      <td>-2.5</td>\n",
       "      <td>-5.4</td>\n",
       "      <td>-5.1</td>\n",
       "      <td>-1.3</td>\n",
       "    </tr>\n",
       "  </tbody>\n",
       "</table>\n",
       "</div>"
      ],
      "text/plain": [
       "                       5    4    3    2    1\n",
       "% Reduction Oct-Dec -6.2 -2.5 -5.4 -5.1 -1.3"
      ]
     },
     "execution_count": 34,
     "metadata": {},
     "output_type": "execute_result"
    }
   ],
   "source": [
    "# Convert % Change into a dataframe by assigning 5 to highest quintile\n",
    "OctDecChange_age = pd.DataFrame({\"5\": -6.2,\"4\": -2.5,\"3\": -5.4,\"2\": -5.1,\"1\": -1.3}, index=['% Reduction Oct-Dec'])\n",
    "\n",
    "OctDecChange_age"
   ]
  },
  {
   "cell_type": "markdown",
   "metadata": {},
   "source": [
    "### Combined table of % change in GP attendances in 2020 compared to 2019 by age 65 quintiles (5 = greatest proportions)"
   ]
  },
  {
   "cell_type": "code",
   "execution_count": 35,
   "metadata": {
    "scrolled": true
   },
   "outputs": [
    {
     "data": {
      "text/html": [
       "<div>\n",
       "<style scoped>\n",
       "    .dataframe tbody tr th:only-of-type {\n",
       "        vertical-align: middle;\n",
       "    }\n",
       "\n",
       "    .dataframe tbody tr th {\n",
       "        vertical-align: top;\n",
       "    }\n",
       "\n",
       "    .dataframe thead th {\n",
       "        text-align: right;\n",
       "    }\n",
       "</style>\n",
       "<table border=\"1\" class=\"dataframe\">\n",
       "  <thead>\n",
       "    <tr style=\"text-align: right;\">\n",
       "      <th></th>\n",
       "      <th>5</th>\n",
       "      <th>4</th>\n",
       "      <th>3</th>\n",
       "      <th>2</th>\n",
       "      <th>1</th>\n",
       "    </tr>\n",
       "  </thead>\n",
       "  <tbody>\n",
       "    <tr>\n",
       "      <th>% Reduction Mar-Sep</th>\n",
       "      <td>-16.4</td>\n",
       "      <td>-13.6</td>\n",
       "      <td>-15.9</td>\n",
       "      <td>-15.0</td>\n",
       "      <td>-13.6</td>\n",
       "    </tr>\n",
       "    <tr>\n",
       "      <th>% Reduction Oct-Dec</th>\n",
       "      <td>-6.2</td>\n",
       "      <td>-2.5</td>\n",
       "      <td>-5.4</td>\n",
       "      <td>-5.1</td>\n",
       "      <td>-1.3</td>\n",
       "    </tr>\n",
       "  </tbody>\n",
       "</table>\n",
       "</div>"
      ],
      "text/plain": [
       "                        5     4     3     2     1\n",
       "% Reduction Mar-Sep -16.4 -13.6 -15.9 -15.0 -13.6\n",
       "% Reduction Oct-Dec  -6.2  -2.5  -5.4  -5.1  -1.3"
      ]
     },
     "execution_count": 35,
     "metadata": {},
     "output_type": "execute_result"
    }
   ],
   "source": [
    "ReductionGPattendancesAge = pd.concat([MarSepChange_age, OctDecChange_age])\n",
    "ReductionGPattendancesAge"
   ]
  },
  {
   "cell_type": "markdown",
   "metadata": {},
   "source": [
    "### Plotting correlations between GP attendances and patients aged 65+\n",
    "\n",
    "Scatter plot of % aged 65+ vs change in GP attendances\n",
    "\n",
    "#### Data merge"
   ]
  },
  {
   "cell_type": "code",
   "execution_count": 36,
   "metadata": {
    "scrolled": true
   },
   "outputs": [
    {
     "data": {
      "text/html": [
       "<div>\n",
       "<style scoped>\n",
       "    .dataframe tbody tr th:only-of-type {\n",
       "        vertical-align: middle;\n",
       "    }\n",
       "\n",
       "    .dataframe tbody tr th {\n",
       "        vertical-align: top;\n",
       "    }\n",
       "\n",
       "    .dataframe thead th {\n",
       "        text-align: right;\n",
       "    }\n",
       "</style>\n",
       "<table border=\"1\" class=\"dataframe\">\n",
       "  <thead>\n",
       "    <tr style=\"text-align: right;\">\n",
       "      <th></th>\n",
       "      <th>CCG_ONS_CODE</th>\n",
       "      <th>% Change Mar Sep</th>\n",
       "      <th>% Change Oct Dec</th>\n",
       "      <th>IMD Scores</th>\n",
       "      <th>% 65+</th>\n",
       "    </tr>\n",
       "  </thead>\n",
       "  <tbody>\n",
       "    <tr>\n",
       "      <th>0</th>\n",
       "      <td>E38000004</td>\n",
       "      <td>-14.889947</td>\n",
       "      <td>-4.103851</td>\n",
       "      <td>32.768</td>\n",
       "      <td>8.3450</td>\n",
       "    </tr>\n",
       "    <tr>\n",
       "      <th>1</th>\n",
       "      <td>E38000006</td>\n",
       "      <td>-16.928843</td>\n",
       "      <td>-8.879786</td>\n",
       "      <td>29.933</td>\n",
       "      <td>18.8541</td>\n",
       "    </tr>\n",
       "    <tr>\n",
       "      <th>2</th>\n",
       "      <td>E38000007</td>\n",
       "      <td>-10.581223</td>\n",
       "      <td>-1.198378</td>\n",
       "      <td>19.329</td>\n",
       "      <td>17.7289</td>\n",
       "    </tr>\n",
       "    <tr>\n",
       "      <th>3</th>\n",
       "      <td>E38000008</td>\n",
       "      <td>-15.520335</td>\n",
       "      <td>-6.763801</td>\n",
       "      <td>22.588</td>\n",
       "      <td>21.4551</td>\n",
       "    </tr>\n",
       "    <tr>\n",
       "      <th>4</th>\n",
       "      <td>E38000010</td>\n",
       "      <td>-10.700605</td>\n",
       "      <td>-3.327124</td>\n",
       "      <td>14.721</td>\n",
       "      <td>17.3781</td>\n",
       "    </tr>\n",
       "  </tbody>\n",
       "</table>\n",
       "</div>"
      ],
      "text/plain": [
       "  CCG_ONS_CODE  % Change Mar Sep  % Change Oct Dec  IMD Scores    % 65+\n",
       "0    E38000004        -14.889947         -4.103851      32.768   8.3450\n",
       "1    E38000006        -16.928843         -8.879786      29.933  18.8541\n",
       "2    E38000007        -10.581223         -1.198378      19.329  17.7289\n",
       "3    E38000008        -15.520335         -6.763801      22.588  21.4551\n",
       "4    E38000010        -10.700605         -3.327124      14.721  17.3781"
      ]
     },
     "execution_count": 36,
     "metadata": {},
     "output_type": "execute_result"
    }
   ],
   "source": [
    "#  add in % 65+ for each CCG (must done before exclusion for accuracy)\n",
    "CCG[\"% 65+\"] = CCG.CCG_ONS_CODE.map(age.set_index('Area Code')['Value'])\n",
    "CCG.head()"
   ]
  },
  {
   "cell_type": "markdown",
   "metadata": {},
   "source": [
    "#### Plotting correlations between GP attendances and age 65+"
   ]
  },
  {
   "cell_type": "code",
   "execution_count": 37,
   "metadata": {
    "scrolled": true
   },
   "outputs": [
    {
     "data": {
      "image/png": "[encoded data removed]",
      "text/plain": [
       "<Figure size 432x288 with 1 Axes>"
      ]
     },
     "metadata": {
      "needs_background": "light"
     },
     "output_type": "display_data"
    }
   ],
   "source": [
    "# Scatter plots of two y-axis \n",
    "import matplotlib.pyplot as plt\n",
    "\n",
    "plt.scatter(CCG['% 65+'], CCG['% Change Mar Sep'])\n",
    "plt.scatter(CCG['% 65+'], CCG['% Change Oct Dec'])\n",
    "classes = ['Mar to Sept % Reduction', 'Oct to Dec % Reduction']\n",
    "plt.ylabel('% Reduction')\n",
    "plt.xlabel('% 65+')\n",
    "plt.title(\"% Reduction in GP attendances 2019-2020 by proportion over 65\")\n",
    "plt.legend(labels=classes)\n",
    "plt.show()\n",
    "\n",
    "# plt.scatter(CCG['IMD Scores'], CCG['% Change Mar Sep'])\n",
    "# plt.ylabel('% Reduction')\n",
    "# plt.xlabel('IMD Scores')\n",
    "# plt.show()\n",
    "# CCG.plot.scatter(x='IMD Scores', y='% Change Mar Sep')"
   ]
  },
  {
   "cell_type": "markdown",
   "metadata": {},
   "source": [
    "#### Find correlations"
   ]
  },
  {
   "cell_type": "code",
   "execution_count": 38,
   "metadata": {},
   "outputs": [
    {
     "data": {
      "text/html": [
       "<div>\n",
       "<style scoped>\n",
       "    .dataframe tbody tr th:only-of-type {\n",
       "        vertical-align: middle;\n",
       "    }\n",
       "\n",
       "    .dataframe tbody tr th {\n",
       "        vertical-align: top;\n",
       "    }\n",
       "\n",
       "    .dataframe thead th {\n",
       "        text-align: right;\n",
       "    }\n",
       "</style>\n",
       "<table border=\"1\" class=\"dataframe\">\n",
       "  <thead>\n",
       "    <tr style=\"text-align: right;\">\n",
       "      <th></th>\n",
       "      <th>% Change Mar Sep</th>\n",
       "      <th>% Change Oct Dec</th>\n",
       "      <th>IMD Scores</th>\n",
       "      <th>% 65+</th>\n",
       "    </tr>\n",
       "  </thead>\n",
       "  <tbody>\n",
       "    <tr>\n",
       "      <th>% Change Mar Sep</th>\n",
       "      <td>1.000000</td>\n",
       "      <td>0.663739</td>\n",
       "      <td>0.035471</td>\n",
       "      <td>-0.083957</td>\n",
       "    </tr>\n",
       "    <tr>\n",
       "      <th>% Change Oct Dec</th>\n",
       "      <td>0.663739</td>\n",
       "      <td>1.000000</td>\n",
       "      <td>-0.164466</td>\n",
       "      <td>-0.094554</td>\n",
       "    </tr>\n",
       "    <tr>\n",
       "      <th>IMD Scores</th>\n",
       "      <td>0.035471</td>\n",
       "      <td>-0.164466</td>\n",
       "      <td>1.000000</td>\n",
       "      <td>-0.346317</td>\n",
       "    </tr>\n",
       "    <tr>\n",
       "      <th>% 65+</th>\n",
       "      <td>-0.083957</td>\n",
       "      <td>-0.094554</td>\n",
       "      <td>-0.346317</td>\n",
       "      <td>1.000000</td>\n",
       "    </tr>\n",
       "  </tbody>\n",
       "</table>\n",
       "</div>"
      ],
      "text/plain": [
       "                  % Change Mar Sep  % Change Oct Dec  IMD Scores     % 65+\n",
       "% Change Mar Sep          1.000000          0.663739    0.035471 -0.083957\n",
       "% Change Oct Dec          0.663739          1.000000   -0.164466 -0.094554\n",
       "IMD Scores                0.035471         -0.164466    1.000000 -0.346317\n",
       "% 65+                    -0.083957         -0.094554   -0.346317  1.000000"
      ]
     },
     "execution_count": 38,
     "metadata": {},
     "output_type": "execute_result"
    }
   ],
   "source": [
    "CCG.corr()"
   ]
  },
  {
   "cell_type": "markdown",
   "metadata": {},
   "source": [
    "#### Have GP attendances dropped by age groups over 65?\n",
    "\n",
    "No strong correlations between GP attendance reduction & %age 65+ as seen in both scatter plots and Pearson correlation coefficients. Now let's move on to excluding urgent appointments."
   ]
  },
  {
   "cell_type": "markdown",
   "metadata": {},
   "source": [
    "## Excluding same or next day appointments (urgent issues)"
   ]
  },
  {
   "cell_type": "markdown",
   "metadata": {},
   "source": [
    "### Deprivation & non-urgent GP attendance\n",
    "\n",
    "#### Data munging"
   ]
  },
  {
   "cell_type": "code",
   "execution_count": 39,
   "metadata": {},
   "outputs": [
    {
     "name": "stdout",
     "output_type": "stream",
     "text": [
      "Same Day                454759\n",
      "2 to 7 Days             400659\n",
      "8  to 14 Days           330356\n",
      "1 Day                   323425\n",
      "15  to 21 Days          274107\n",
      "22  to 28 Days          247654\n",
      "More than 28 Days       239224\n",
      "Unknown / Data Issue     18139\n",
      "Name: TIME_BETWEEN_BOOK_AND_APPT, dtype: int64\n"
     ]
    }
   ],
   "source": [
    "# Check the unique values for 'TIME_BETWEEN_BOOK_AND_APPT'\n",
    "print(MarSep2019['TIME_BETWEEN_BOOK_AND_APPT'].value_counts())"
   ]
  },
  {
   "cell_type": "code",
   "execution_count": 40,
   "metadata": {},
   "outputs": [
    {
     "data": {
      "text/plain": [
       "2 to 7 Days             175133\n",
       "8  to 14 Days           146868\n",
       "15  to 21 Days          120339\n",
       "22  to 28 Days          102538\n",
       "More than 28 Days        94317\n",
       "Unknown / Data Issue      8686\n",
       "Name: TIME_BETWEEN_BOOK_AND_APPT, dtype: int64"
      ]
     },
     "execution_count": 40,
     "metadata": {},
     "output_type": "execute_result"
    }
   ],
   "source": [
    "# Exclude same/next day appt by filtering them out\n",
    "MarSep2019copy=MarSep2019.copy()\n",
    "MarSep2019copy = MarSep2019copy[MarSep2019copy['TIME_BETWEEN_BOOK_AND_APPT'] != 'Same Day']\n",
    "MarSep2019copy = MarSep2019copy[MarSep2019copy['TIME_BETWEEN_BOOK_AND_APPT'] != '1 Day']\n",
    "\n",
    "MarSep2020copy=MarSep2020.copy()\n",
    "MarSep2020copy = MarSep2020copy[MarSep2020copy['TIME_BETWEEN_BOOK_AND_APPT'] != 'Same Day']\n",
    "MarSep2020copy = MarSep2020copy[MarSep2020copy['TIME_BETWEEN_BOOK_AND_APPT'] != '1 Day']\n",
    "\n",
    "\n",
    "OctDec2019copy=OctDec2019.copy()\n",
    "OctDec2019copy = OctDec2019copy[OctDec2019copy['TIME_BETWEEN_BOOK_AND_APPT'] != 'Same Day']\n",
    "OctDec2019copy = OctDec2019copy[OctDec2019copy['TIME_BETWEEN_BOOK_AND_APPT'] != '1 Day']\n",
    "\n",
    "OctDec2020copy=OctDec2020.copy()\n",
    "OctDec2020copy = OctDec2020copy[OctDec2020copy['TIME_BETWEEN_BOOK_AND_APPT'] != 'Same Day']\n",
    "OctDec2020copy = OctDec2020copy[OctDec2020copy['TIME_BETWEEN_BOOK_AND_APPT'] != '1 Day']\n",
    "OctDec2020copy['TIME_BETWEEN_BOOK_AND_APPT'].value_counts()"
   ]
  },
  {
   "cell_type": "code",
   "execution_count": 41,
   "metadata": {},
   "outputs": [
    {
     "name": "stdout",
     "output_type": "stream",
     "text": [
      "IMD Quintiles\n",
      "2nd highest quintile    11735455\n",
      "2nd lowest quintile     11858351\n",
      "Highest quintile        10824885\n",
      "Lowest quintile         13654633\n",
      "Middle quintile         13439010\n",
      "Not compared            26905879\n",
      "Name: COUNT_OF_APPOINTMENTS, dtype: int64\n",
      "IMD Quintiles\n",
      "2nd highest quintile     7218514\n",
      "2nd lowest quintile      7389366\n",
      "Highest quintile         6129342\n",
      "Lowest quintile          8367887\n",
      "Middle quintile          8788875\n",
      "Not compared            17101315\n",
      "Name: COUNT_OF_APPOINTMENTS, dtype: int64\n",
      "IMD Quintiles\n",
      "2nd highest quintile   -38.489696\n",
      "2nd lowest quintile    -37.686395\n",
      "Highest quintile       -43.377301\n",
      "Lowest quintile        -38.717599\n",
      "Middle quintile        -34.601768\n",
      "Not compared           -36.440229\n",
      "Name: COUNT_OF_APPOINTMENTS, dtype: float64\n"
     ]
    }
   ],
   "source": [
    "# % change for Mar-Sep 2019 vs Mar-Sep 2020 by IMD quintiles\n",
    "MarSep2019imd2 = MarSep2019copy.groupby('IMD Quintiles')['COUNT_OF_APPOINTMENTS'].sum()\n",
    "print(MarSep2019imd2)\n",
    "MarSep2020imd2 = MarSep2020copy.groupby('IMD Quintiles')['COUNT_OF_APPOINTMENTS'].sum()\n",
    "print(MarSep2020imd2)\n",
    "MarSepChange2 = 100* ((MarSep2020imd2-MarSep2019imd2)/MarSep2019imd2)\n",
    "print(MarSepChange2)"
   ]
  },
  {
   "cell_type": "code",
   "execution_count": 42,
   "metadata": {},
   "outputs": [
    {
     "data": {
      "text/html": [
       "<div>\n",
       "<style scoped>\n",
       "    .dataframe tbody tr th:only-of-type {\n",
       "        vertical-align: middle;\n",
       "    }\n",
       "\n",
       "    .dataframe tbody tr th {\n",
       "        vertical-align: top;\n",
       "    }\n",
       "\n",
       "    .dataframe thead th {\n",
       "        text-align: right;\n",
       "    }\n",
       "</style>\n",
       "<table border=\"1\" class=\"dataframe\">\n",
       "  <thead>\n",
       "    <tr style=\"text-align: right;\">\n",
       "      <th></th>\n",
       "      <th>5</th>\n",
       "      <th>4</th>\n",
       "      <th>3</th>\n",
       "      <th>2</th>\n",
       "      <th>1</th>\n",
       "    </tr>\n",
       "  </thead>\n",
       "  <tbody>\n",
       "    <tr>\n",
       "      <th>% Mar Sep Change</th>\n",
       "      <td>-43.3</td>\n",
       "      <td>-38.4</td>\n",
       "      <td>-34.6</td>\n",
       "      <td>-37.6</td>\n",
       "      <td>-38.7</td>\n",
       "    </tr>\n",
       "  </tbody>\n",
       "</table>\n",
       "</div>"
      ],
      "text/plain": [
       "                     5     4     3     2     1\n",
       "% Mar Sep Change -43.3 -38.4 -34.6 -37.6 -38.7"
      ]
     },
     "execution_count": 42,
     "metadata": {},
     "output_type": "execute_result"
    }
   ],
   "source": [
    "# Convert % Change into a dataframe by assigning 5 to highest quintile\n",
    "MarSepChange_df1 = pd.DataFrame({\"5\": -43.3,\"4\": -38.4,\"3\": -34.6,\"2\": -37.6,\"1\": -38.7}, index=['% Mar Sep Change'])\n",
    "\n",
    "MarSepChange_df1"
   ]
  },
  {
   "cell_type": "code",
   "execution_count": 43,
   "metadata": {},
   "outputs": [
    {
     "name": "stdout",
     "output_type": "stream",
     "text": [
      "IMD Quintiles\n",
      "2nd highest quintile     5526981\n",
      "2nd lowest quintile      5697668\n",
      "Highest quintile         5020104\n",
      "Lowest quintile          6533753\n",
      "Middle quintile          6370682\n",
      "Not compared            12816209\n",
      "Name: COUNT_OF_APPOINTMENTS, dtype: int64\n",
      "IMD Quintiles\n",
      "2nd highest quintile     4615906\n",
      "2nd lowest quintile      4990942\n",
      "Highest quintile         4058262\n",
      "Lowest quintile          5765157\n",
      "Middle quintile          5532969\n",
      "Not compared            11262106\n",
      "Name: COUNT_OF_APPOINTMENTS, dtype: int64\n",
      "IMD Quintiles\n",
      "2nd highest quintile   -16.484135\n",
      "2nd lowest quintile    -12.403776\n",
      "Highest quintile       -19.159802\n",
      "Lowest quintile        -11.763469\n",
      "Middle quintile        -13.149503\n",
      "Not compared           -12.126074\n",
      "Name: COUNT_OF_APPOINTMENTS, dtype: float64\n"
     ]
    }
   ],
   "source": [
    "# % change for Oct-Dec 2019 vs Oct-Dec 2020 by IMD quintiles \n",
    "OctDec2019imd2 = OctDec2019copy.groupby('IMD Quintiles')['COUNT_OF_APPOINTMENTS'].sum()\n",
    "OctDec2020imd2 = OctDec2020copy.groupby('IMD Quintiles')['COUNT_OF_APPOINTMENTS'].sum()\n",
    "print(OctDec2019imd2)\n",
    "print(OctDec2020imd2)\n",
    "OctDecChange2 = 100* ((OctDec2020imd2-OctDec2019imd2)/OctDec2019imd2)\n",
    "print(OctDecChange2)"
   ]
  },
  {
   "cell_type": "code",
   "execution_count": 44,
   "metadata": {},
   "outputs": [
    {
     "data": {
      "text/html": [
       "<div>\n",
       "<style scoped>\n",
       "    .dataframe tbody tr th:only-of-type {\n",
       "        vertical-align: middle;\n",
       "    }\n",
       "\n",
       "    .dataframe tbody tr th {\n",
       "        vertical-align: top;\n",
       "    }\n",
       "\n",
       "    .dataframe thead th {\n",
       "        text-align: right;\n",
       "    }\n",
       "</style>\n",
       "<table border=\"1\" class=\"dataframe\">\n",
       "  <thead>\n",
       "    <tr style=\"text-align: right;\">\n",
       "      <th></th>\n",
       "      <th>5</th>\n",
       "      <th>4</th>\n",
       "      <th>3</th>\n",
       "      <th>2</th>\n",
       "      <th>1</th>\n",
       "    </tr>\n",
       "  </thead>\n",
       "  <tbody>\n",
       "    <tr>\n",
       "      <th>% Oct Dec Change</th>\n",
       "      <td>-19.1</td>\n",
       "      <td>-16.4</td>\n",
       "      <td>-13.1</td>\n",
       "      <td>-12.4</td>\n",
       "      <td>-11.7</td>\n",
       "    </tr>\n",
       "  </tbody>\n",
       "</table>\n",
       "</div>"
      ],
      "text/plain": [
       "                     5     4     3     2     1\n",
       "% Oct Dec Change -19.1 -16.4 -13.1 -12.4 -11.7"
      ]
     },
     "execution_count": 44,
     "metadata": {},
     "output_type": "execute_result"
    }
   ],
   "source": [
    "# Convert % Change into a dataframe by assigning 5 to highest quintile\n",
    "OctDecChange_df1 = pd.DataFrame({\"5\": -19.1,\"4\": -16.4,\"3\": -13.1,\"2\": -12.4,\"1\": -11.7}, index=['% Oct Dec Change'])\n",
    "\n",
    "OctDecChange_df1"
   ]
  },
  {
   "cell_type": "code",
   "execution_count": 45,
   "metadata": {},
   "outputs": [
    {
     "data": {
      "text/html": [
       "<div>\n",
       "<style scoped>\n",
       "    .dataframe tbody tr th:only-of-type {\n",
       "        vertical-align: middle;\n",
       "    }\n",
       "\n",
       "    .dataframe tbody tr th {\n",
       "        vertical-align: top;\n",
       "    }\n",
       "\n",
       "    .dataframe thead th {\n",
       "        text-align: right;\n",
       "    }\n",
       "</style>\n",
       "<table border=\"1\" class=\"dataframe\">\n",
       "  <thead>\n",
       "    <tr style=\"text-align: right;\">\n",
       "      <th></th>\n",
       "      <th>5</th>\n",
       "      <th>4</th>\n",
       "      <th>3</th>\n",
       "      <th>2</th>\n",
       "      <th>1</th>\n",
       "    </tr>\n",
       "  </thead>\n",
       "  <tbody>\n",
       "    <tr>\n",
       "      <th>% Mar Sep Change</th>\n",
       "      <td>-43.3</td>\n",
       "      <td>-38.4</td>\n",
       "      <td>-34.6</td>\n",
       "      <td>-37.6</td>\n",
       "      <td>-38.7</td>\n",
       "    </tr>\n",
       "    <tr>\n",
       "      <th>% Oct Dec Change</th>\n",
       "      <td>-19.1</td>\n",
       "      <td>-16.4</td>\n",
       "      <td>-13.1</td>\n",
       "      <td>-12.4</td>\n",
       "      <td>-11.7</td>\n",
       "    </tr>\n",
       "  </tbody>\n",
       "</table>\n",
       "</div>"
      ],
      "text/plain": [
       "                     5     4     3     2     1\n",
       "% Mar Sep Change -43.3 -38.4 -34.6 -37.6 -38.7\n",
       "% Oct Dec Change -19.1 -16.4 -13.1 -12.4 -11.7"
      ]
     },
     "execution_count": 45,
     "metadata": {},
     "output_type": "execute_result"
    }
   ],
   "source": [
    "ReductionGPattendancesIMD = pd.concat([MarSepChange_df1, OctDecChange_df1])\n",
    "ReductionGPattendancesIMD"
   ]
  },
  {
   "cell_type": "markdown",
   "metadata": {},
   "source": [
    "### % change in GP attendances by deprivation, excluding same/next day appointments  \n",
    "Please note highest quintiles are the most deprived ones. \n",
    "* All quintiles faced a reduction in GP attendances during 2020 compared to 2019, with the reduction in GP attendances much greater for most deprived. \n",
    "* For Oct to Dec 2020 vs Oct to Dec 2019, there's a linear trend and the % reduction in GP attendances is greater for more deprived compared to less deprived\n",
    "* For Mar to Sep 2019 vs 2020, it doesn't look like there is a linear trend between quintiles for % reduction in GP attendances. However, most deprived (highest quintile) have greater reduction than the least deprived. Interestingly, middle quintile has the smallest reduction \n",
    "\n",
    "\n",
    "### Plotting correlations between GP attendances and deprivation level, excluding same/next day appointments\n",
    "#### Data munging"
   ]
  },
  {
   "cell_type": "code",
   "execution_count": 46,
   "metadata": {},
   "outputs": [],
   "source": [
    "# % change for Mar-Sep 2019 vs Mar-Sep 2020 by CCG excluding urgent appts\n",
    "MarSep2019CCG = MarSep2019copy.groupby('CCG_ONS_CODE')['COUNT_OF_APPOINTMENTS'].sum()\n",
    "\n",
    "MarSep2020CCG = MarSep2020copy.groupby('CCG_ONS_CODE')['COUNT_OF_APPOINTMENTS'].sum()\n",
    "\n",
    "\n",
    "MarSepCCGChange = 100* ((MarSep2020CCG-MarSep2019CCG)/MarSep2019CCG)\n",
    "\n",
    "# % change for Oct-Dec 2019 vs Oct-Dec 2020 by CCG \n",
    "OctDec2019CCG = OctDec2019copy.groupby('CCG_ONS_CODE')['COUNT_OF_APPOINTMENTS'].sum()\n",
    "OctDec2020CCG = OctDec2020copy.groupby('CCG_ONS_CODE')['COUNT_OF_APPOINTMENTS'].sum()\n",
    "OctDecCCGChange = 100* ((OctDec2020CCG-OctDec2019CCG)/OctDec2019CCG)"
   ]
  },
  {
   "cell_type": "code",
   "execution_count": 47,
   "metadata": {
    "scrolled": true
   },
   "outputs": [
    {
     "data": {
      "text/html": [
       "<div>\n",
       "<style scoped>\n",
       "    .dataframe tbody tr th:only-of-type {\n",
       "        vertical-align: middle;\n",
       "    }\n",
       "\n",
       "    .dataframe tbody tr th {\n",
       "        vertical-align: top;\n",
       "    }\n",
       "\n",
       "    .dataframe thead th {\n",
       "        text-align: right;\n",
       "    }\n",
       "</style>\n",
       "<table border=\"1\" class=\"dataframe\">\n",
       "  <thead>\n",
       "    <tr style=\"text-align: right;\">\n",
       "      <th></th>\n",
       "      <th>CCG_ONS_CODE</th>\n",
       "      <th>% Change Mar Sep</th>\n",
       "      <th>% Change Oct Dec</th>\n",
       "      <th>IMD Scores</th>\n",
       "    </tr>\n",
       "  </thead>\n",
       "  <tbody>\n",
       "    <tr>\n",
       "      <th>0</th>\n",
       "      <td>E38000004</td>\n",
       "      <td>-45.316645</td>\n",
       "      <td>-13.041554</td>\n",
       "      <td>32.768</td>\n",
       "    </tr>\n",
       "    <tr>\n",
       "      <th>1</th>\n",
       "      <td>E38000006</td>\n",
       "      <td>-36.692268</td>\n",
       "      <td>-14.173168</td>\n",
       "      <td>29.933</td>\n",
       "    </tr>\n",
       "    <tr>\n",
       "      <th>2</th>\n",
       "      <td>E38000007</td>\n",
       "      <td>-37.000552</td>\n",
       "      <td>-14.529194</td>\n",
       "      <td>19.329</td>\n",
       "    </tr>\n",
       "    <tr>\n",
       "      <th>3</th>\n",
       "      <td>E38000008</td>\n",
       "      <td>-25.694033</td>\n",
       "      <td>2.817690</td>\n",
       "      <td>22.588</td>\n",
       "    </tr>\n",
       "    <tr>\n",
       "      <th>4</th>\n",
       "      <td>E38000010</td>\n",
       "      <td>-33.382859</td>\n",
       "      <td>-12.386624</td>\n",
       "      <td>14.721</td>\n",
       "    </tr>\n",
       "  </tbody>\n",
       "</table>\n",
       "</div>"
      ],
      "text/plain": [
       "  CCG_ONS_CODE  % Change Mar Sep  % Change Oct Dec  IMD Scores\n",
       "0    E38000004        -45.316645        -13.041554      32.768\n",
       "1    E38000006        -36.692268        -14.173168      29.933\n",
       "2    E38000007        -37.000552        -14.529194      19.329\n",
       "3    E38000008        -25.694033          2.817690      22.588\n",
       "4    E38000010        -33.382859        -12.386624      14.721"
      ]
     },
     "execution_count": 47,
     "metadata": {},
     "output_type": "execute_result"
    }
   ],
   "source": [
    "# Convert both CCG Change into a table dataframe\n",
    "MSccg = pd.DataFrame(MarSepCCGChange)\n",
    "ODccg = pd.DataFrame(OctDecCCGChange)\n",
    "#rename Count of Appt column to % reduction Mar Sept\n",
    "MSccg.rename(columns={'COUNT_OF_APPOINTMENTS': '% Change Mar Sep'}, inplace=True)\n",
    "ODccg.rename(columns={'COUNT_OF_APPOINTMENTS': '% Change Oct Dec'}, inplace=True)\n",
    "# merge the two tables\n",
    "CCG = pd.merge(left=MSccg, right=ODccg, on='CCG_ONS_CODE') \n",
    "# reset index\n",
    "CCG = CCG.reset_index()\n",
    "\n",
    "#  add in IMD scores for each CCG\n",
    "CCG[\"IMD Scores\"] = CCG.CCG_ONS_CODE.map(deprivation.set_index('Area Code')['Value'])\n",
    "\n",
    "CCG.head()"
   ]
  },
  {
   "cell_type": "markdown",
   "metadata": {},
   "source": [
    "#### Plotting correlations between GP attendances and deprivation, excluding urgent appointments"
   ]
  },
  {
   "cell_type": "code",
   "execution_count": 48,
   "metadata": {
    "scrolled": true
   },
   "outputs": [
    {
     "data": {
      "image/png": "[encoded data removed]",
      "text/plain": [
       "<Figure size 432x288 with 1 Axes>"
      ]
     },
     "metadata": {
      "needs_background": "light"
     },
     "output_type": "display_data"
    }
   ],
   "source": [
    "# Scatter plots of two y-axis \n",
    "import matplotlib.pyplot as plt\n",
    "\n",
    "plt.scatter(CCG['IMD Scores'], CCG['% Change Mar Sep'])\n",
    "plt.scatter(CCG['IMD Scores'], CCG['% Change Oct Dec'])\n",
    "classes = ['Mar to Sept % Reduction', 'Oct to Dec % Reduction']\n",
    "plt.ylabel('% Reduction')\n",
    "plt.xlabel('IMD Scores (higher=more deprived)')\n",
    "plt.title(\"% Reduction in GP attendances 2019-2020 by IMD scores, non-urgent appts\")\n",
    "plt.legend(labels=classes)\n",
    "plt.show()"
   ]
  },
  {
   "cell_type": "markdown",
   "metadata": {},
   "source": [
    "#### Find correlations"
   ]
  },
  {
   "cell_type": "code",
   "execution_count": 49,
   "metadata": {
    "scrolled": true
   },
   "outputs": [
    {
     "data": {
      "text/html": [
       "<div>\n",
       "<style scoped>\n",
       "    .dataframe tbody tr th:only-of-type {\n",
       "        vertical-align: middle;\n",
       "    }\n",
       "\n",
       "    .dataframe tbody tr th {\n",
       "        vertical-align: top;\n",
       "    }\n",
       "\n",
       "    .dataframe thead th {\n",
       "        text-align: right;\n",
       "    }\n",
       "</style>\n",
       "<table border=\"1\" class=\"dataframe\">\n",
       "  <thead>\n",
       "    <tr style=\"text-align: right;\">\n",
       "      <th></th>\n",
       "      <th>% Change Mar Sep</th>\n",
       "      <th>% Change Oct Dec</th>\n",
       "      <th>IMD Scores</th>\n",
       "    </tr>\n",
       "  </thead>\n",
       "  <tbody>\n",
       "    <tr>\n",
       "      <th>% Change Mar Sep</th>\n",
       "      <td>1.000000</td>\n",
       "      <td>0.613092</td>\n",
       "      <td>-0.181813</td>\n",
       "    </tr>\n",
       "    <tr>\n",
       "      <th>% Change Oct Dec</th>\n",
       "      <td>0.613092</td>\n",
       "      <td>1.000000</td>\n",
       "      <td>-0.341696</td>\n",
       "    </tr>\n",
       "    <tr>\n",
       "      <th>IMD Scores</th>\n",
       "      <td>-0.181813</td>\n",
       "      <td>-0.341696</td>\n",
       "      <td>1.000000</td>\n",
       "    </tr>\n",
       "  </tbody>\n",
       "</table>\n",
       "</div>"
      ],
      "text/plain": [
       "                  % Change Mar Sep  % Change Oct Dec  IMD Scores\n",
       "% Change Mar Sep          1.000000          0.613092   -0.181813\n",
       "% Change Oct Dec          0.613092          1.000000   -0.341696\n",
       "IMD Scores               -0.181813         -0.341696    1.000000"
      ]
     },
     "execution_count": 49,
     "metadata": {},
     "output_type": "execute_result"
    }
   ],
   "source": [
    "CCG.corr()"
   ]
  },
  {
   "cell_type": "markdown",
   "metadata": {},
   "source": [
    "#### Have GP attendances dropped more in more deprived CCGs, excluding urgent appointments?\n",
    "\n",
    "Excluding urgent appointments, there are still no strong correlations between GP attendance reduction & deprivation (IMD scores) as seen in both scatter plots and Pearson correlation coefficients. There seems to be a stronger correlation, albeit a weak one for deprivation and GP attendances in the Oct-Dec period."
   ]
  },
  {
   "cell_type": "markdown",
   "metadata": {},
   "source": [
    "### Aged 65+ & non-urgent GP attendance\n",
    "#### Data munging"
   ]
  },
  {
   "cell_type": "code",
   "execution_count": 50,
   "metadata": {},
   "outputs": [
    {
     "name": "stdout",
     "output_type": "stream",
     "text": [
      "% 65+ Quintiles\n",
      "2nd highest quintile    17167648\n",
      "2nd lowest quintile     21118275\n",
      "Highest quintile        21366507\n",
      "Lowest quintile         16191888\n",
      "Middle quintile         12573895\n",
      "Name: COUNT_OF_APPOINTMENTS, dtype: int64\n",
      "% 65+ Quintiles\n",
      "2nd highest quintile    11012856\n",
      "2nd lowest quintile     13013953\n",
      "Highest quintile        13828429\n",
      "Lowest quintile          9455487\n",
      "Middle quintile          7684574\n",
      "Name: COUNT_OF_APPOINTMENTS, dtype: int64\n",
      "% 65+ Quintiles\n",
      "2nd highest quintile   -35.851108\n",
      "2nd lowest quintile    -38.375871\n",
      "Highest quintile       -35.279880\n",
      "Lowest quintile        -41.603555\n",
      "Middle quintile        -38.884697\n",
      "Name: COUNT_OF_APPOINTMENTS, dtype: float64\n"
     ]
    }
   ],
   "source": [
    "# % change for Mar-Sep 2019 vs Mar-Sep 2020 by % 65+\n",
    "MarSep2019imd2 = MarSep2019copy.groupby('% 65+ Quintiles')['COUNT_OF_APPOINTMENTS'].sum()\n",
    "print(MarSep2019imd2)\n",
    "MarSep2020imd2 = MarSep2020copy.groupby('% 65+ Quintiles')['COUNT_OF_APPOINTMENTS'].sum()\n",
    "print(MarSep2020imd2)\n",
    "MarSepChange2 = 100* ((MarSep2020imd2-MarSep2019imd2)/MarSep2019imd2)\n",
    "print(MarSepChange2)"
   ]
  },
  {
   "cell_type": "code",
   "execution_count": 51,
   "metadata": {},
   "outputs": [
    {
     "name": "stdout",
     "output_type": "stream",
     "text": [
      "% 65+ Quintiles\n",
      "2nd highest quintile     8229877\n",
      "2nd lowest quintile     10040527\n",
      "Highest quintile        10244569\n",
      "Lowest quintile          7481256\n",
      "Middle quintile          5969168\n",
      "Name: COUNT_OF_APPOINTMENTS, dtype: int64\n",
      "% 65+ Quintiles\n",
      "2nd highest quintile    7260937\n",
      "2nd lowest quintile     8513672\n",
      "Highest quintile        8893564\n",
      "Lowest quintile         6421938\n",
      "Middle quintile         5135231\n",
      "Name: COUNT_OF_APPOINTMENTS, dtype: int64\n",
      "% 65+ Quintiles\n",
      "2nd highest quintile   -11.773444\n",
      "2nd lowest quintile    -15.206921\n",
      "Highest quintile       -13.187524\n",
      "Lowest quintile        -14.159628\n",
      "Middle quintile        -13.970741\n",
      "Name: COUNT_OF_APPOINTMENTS, dtype: float64\n"
     ]
    }
   ],
   "source": [
    "# % change for Oct-Dec 2019 vs Oct-Dec 2020 by % 65 quintiles \n",
    "OctDec2019imd2 = OctDec2019copy.groupby('% 65+ Quintiles')['COUNT_OF_APPOINTMENTS'].sum()\n",
    "OctDec2020imd2 = OctDec2020copy.groupby('% 65+ Quintiles')['COUNT_OF_APPOINTMENTS'].sum()\n",
    "print(OctDec2019imd2)\n",
    "print(OctDec2020imd2)\n",
    "OctDecChange2 = 100* ((OctDec2020imd2-OctDec2019imd2)/OctDec2019imd2)\n",
    "print(OctDecChange2)"
   ]
  },
  {
   "cell_type": "code",
   "execution_count": 52,
   "metadata": {},
   "outputs": [
    {
     "data": {
      "text/html": [
       "<div>\n",
       "<style scoped>\n",
       "    .dataframe tbody tr th:only-of-type {\n",
       "        vertical-align: middle;\n",
       "    }\n",
       "\n",
       "    .dataframe tbody tr th {\n",
       "        vertical-align: top;\n",
       "    }\n",
       "\n",
       "    .dataframe thead th {\n",
       "        text-align: right;\n",
       "    }\n",
       "</style>\n",
       "<table border=\"1\" class=\"dataframe\">\n",
       "  <thead>\n",
       "    <tr style=\"text-align: right;\">\n",
       "      <th></th>\n",
       "      <th>5</th>\n",
       "      <th>4</th>\n",
       "      <th>3</th>\n",
       "      <th>2</th>\n",
       "      <th>1</th>\n",
       "    </tr>\n",
       "  </thead>\n",
       "  <tbody>\n",
       "    <tr>\n",
       "      <th>% Mar Sep Change</th>\n",
       "      <td>-35.3</td>\n",
       "      <td>-35.6</td>\n",
       "      <td>-38.9</td>\n",
       "      <td>-38.4</td>\n",
       "      <td>-41.6</td>\n",
       "    </tr>\n",
       "    <tr>\n",
       "      <th>% Oct Dec Change</th>\n",
       "      <td>-13.2</td>\n",
       "      <td>-11.8</td>\n",
       "      <td>-14.0</td>\n",
       "      <td>-15.2</td>\n",
       "      <td>-14.2</td>\n",
       "    </tr>\n",
       "  </tbody>\n",
       "</table>\n",
       "</div>"
      ],
      "text/plain": [
       "                     5     4     3     2     1\n",
       "% Mar Sep Change -35.3 -35.6 -38.9 -38.4 -41.6\n",
       "% Oct Dec Change -13.2 -11.8 -14.0 -15.2 -14.2"
      ]
     },
     "execution_count": 52,
     "metadata": {},
     "output_type": "execute_result"
    }
   ],
   "source": [
    "# Convert % Change into a dataframe by assigning 5 to highest quintile\n",
    "MarSepChange_df2 = pd.DataFrame({\"5\": -35.3,\"4\": -35.6,\"3\": -38.9,\"2\": -38.4,\"1\": -41.6}, index=['% Mar Sep Change'])\n",
    "\n",
    "# Convert % Change into a dataframe by assigning 5 to highest quintile\n",
    "OctDecChange_df2 = pd.DataFrame({\"5\": -13.2,\"4\": -11.8,\"3\": -14.0,\"2\": -15.2,\"1\": -14.2}, index=['% Oct Dec Change'])\n",
    "\n",
    "ReductionGPattendancesAge = pd.concat([MarSepChange_df2, OctDecChange_df2])\n",
    "ReductionGPattendancesAge"
   ]
  },
  {
   "cell_type": "markdown",
   "metadata": {},
   "source": [
    "### % change in GP attendances by age 65+, excluding same/next day appointments\n",
    "Please note highest quintiles = highest proportion of 65+. \n",
    "* All quintiles faced a reduction in GP attendances during 2020 compared to 2019\n",
    "* For Oct to Dec 2020 vs Oct to Dec 2019, there's no clear trend in % change in GP attendance by age quintiles.\n",
    "* For Mar to Sep 2019 vs 2020, % reduction in GP attendances is greater in CCGs with smaller proportion of age 65+. \n",
    "\n",
    "### Plotting correlations between GP attendances and age 65+, excluding same/next day appointments\n",
    "#### Data munging"
   ]
  },
  {
   "cell_type": "code",
   "execution_count": 53,
   "metadata": {
    "scrolled": true
   },
   "outputs": [
    {
     "data": {
      "text/html": [
       "<div>\n",
       "<style scoped>\n",
       "    .dataframe tbody tr th:only-of-type {\n",
       "        vertical-align: middle;\n",
       "    }\n",
       "\n",
       "    .dataframe tbody tr th {\n",
       "        vertical-align: top;\n",
       "    }\n",
       "\n",
       "    .dataframe thead th {\n",
       "        text-align: right;\n",
       "    }\n",
       "</style>\n",
       "<table border=\"1\" class=\"dataframe\">\n",
       "  <thead>\n",
       "    <tr style=\"text-align: right;\">\n",
       "      <th></th>\n",
       "      <th>CCG_ONS_CODE</th>\n",
       "      <th>% Change Mar Sep</th>\n",
       "      <th>% Change Oct Dec</th>\n",
       "      <th>IMD Scores</th>\n",
       "      <th>% 65+</th>\n",
       "    </tr>\n",
       "  </thead>\n",
       "  <tbody>\n",
       "    <tr>\n",
       "      <th>0</th>\n",
       "      <td>E38000004</td>\n",
       "      <td>-45.316645</td>\n",
       "      <td>-13.041554</td>\n",
       "      <td>32.768</td>\n",
       "      <td>8.3450</td>\n",
       "    </tr>\n",
       "    <tr>\n",
       "      <th>1</th>\n",
       "      <td>E38000006</td>\n",
       "      <td>-36.692268</td>\n",
       "      <td>-14.173168</td>\n",
       "      <td>29.933</td>\n",
       "      <td>18.8541</td>\n",
       "    </tr>\n",
       "    <tr>\n",
       "      <th>2</th>\n",
       "      <td>E38000007</td>\n",
       "      <td>-37.000552</td>\n",
       "      <td>-14.529194</td>\n",
       "      <td>19.329</td>\n",
       "      <td>17.7289</td>\n",
       "    </tr>\n",
       "    <tr>\n",
       "      <th>3</th>\n",
       "      <td>E38000008</td>\n",
       "      <td>-25.694033</td>\n",
       "      <td>2.817690</td>\n",
       "      <td>22.588</td>\n",
       "      <td>21.4551</td>\n",
       "    </tr>\n",
       "    <tr>\n",
       "      <th>4</th>\n",
       "      <td>E38000010</td>\n",
       "      <td>-33.382859</td>\n",
       "      <td>-12.386624</td>\n",
       "      <td>14.721</td>\n",
       "      <td>17.3781</td>\n",
       "    </tr>\n",
       "  </tbody>\n",
       "</table>\n",
       "</div>"
      ],
      "text/plain": [
       "  CCG_ONS_CODE  % Change Mar Sep  % Change Oct Dec  IMD Scores    % 65+\n",
       "0    E38000004        -45.316645        -13.041554      32.768   8.3450\n",
       "1    E38000006        -36.692268        -14.173168      29.933  18.8541\n",
       "2    E38000007        -37.000552        -14.529194      19.329  17.7289\n",
       "3    E38000008        -25.694033          2.817690      22.588  21.4551\n",
       "4    E38000010        -33.382859        -12.386624      14.721  17.3781"
      ]
     },
     "execution_count": 53,
     "metadata": {},
     "output_type": "execute_result"
    }
   ],
   "source": [
    "# #  add in % 65+ for each CCG\n",
    "CCG[\"% 65+\"] = CCG.CCG_ONS_CODE.map(age.set_index('Area Code')['Value'])\n",
    "\n",
    "CCG.head()"
   ]
  },
  {
   "cell_type": "markdown",
   "metadata": {},
   "source": [
    "### Plotting correlations between GP attendances and % 65+, excluding urgent appointments"
   ]
  },
  {
   "cell_type": "code",
   "execution_count": 54,
   "metadata": {
    "scrolled": true
   },
   "outputs": [
    {
     "data": {
      "image/png": "[encoded data removed]",
      "text/plain": [
       "<Figure size 432x288 with 1 Axes>"
      ]
     },
     "metadata": {
      "needs_background": "light"
     },
     "output_type": "display_data"
    }
   ],
   "source": [
    "# Scatter plots of two y-axis \n",
    "import matplotlib.pyplot as plt\n",
    "\n",
    "plt.scatter(CCG['% 65+'], CCG['% Change Mar Sep'])\n",
    "plt.scatter(CCG['% 65+'], CCG['% Change Oct Dec'])\n",
    "classes = ['Mar to Sept % Reduction', 'Oct to Dec % Reduction']\n",
    "plt.ylabel('% Reduction')\n",
    "plt.xlabel('% 65+')\n",
    "plt.title(\"% Reduction in GP attendances 2019-2020 by proportion over 65, non-urgent appts\")\n",
    "plt.legend(labels=classes)\n",
    "plt.show()"
   ]
  },
  {
   "cell_type": "markdown",
   "metadata": {},
   "source": [
    "#### Find correlations"
   ]
  },
  {
   "cell_type": "code",
   "execution_count": 55,
   "metadata": {},
   "outputs": [
    {
     "data": {
      "text/html": [
       "<div>\n",
       "<style scoped>\n",
       "    .dataframe tbody tr th:only-of-type {\n",
       "        vertical-align: middle;\n",
       "    }\n",
       "\n",
       "    .dataframe tbody tr th {\n",
       "        vertical-align: top;\n",
       "    }\n",
       "\n",
       "    .dataframe thead th {\n",
       "        text-align: right;\n",
       "    }\n",
       "</style>\n",
       "<table border=\"1\" class=\"dataframe\">\n",
       "  <thead>\n",
       "    <tr style=\"text-align: right;\">\n",
       "      <th></th>\n",
       "      <th>% Change Mar Sep</th>\n",
       "      <th>% Change Oct Dec</th>\n",
       "      <th>IMD Scores</th>\n",
       "      <th>% 65+</th>\n",
       "    </tr>\n",
       "  </thead>\n",
       "  <tbody>\n",
       "    <tr>\n",
       "      <th>% Change Mar Sep</th>\n",
       "      <td>1.000000</td>\n",
       "      <td>0.613092</td>\n",
       "      <td>-0.181813</td>\n",
       "      <td>0.255762</td>\n",
       "    </tr>\n",
       "    <tr>\n",
       "      <th>% Change Oct Dec</th>\n",
       "      <td>0.613092</td>\n",
       "      <td>1.000000</td>\n",
       "      <td>-0.341696</td>\n",
       "      <td>0.144187</td>\n",
       "    </tr>\n",
       "    <tr>\n",
       "      <th>IMD Scores</th>\n",
       "      <td>-0.181813</td>\n",
       "      <td>-0.341696</td>\n",
       "      <td>1.000000</td>\n",
       "      <td>-0.346317</td>\n",
       "    </tr>\n",
       "    <tr>\n",
       "      <th>% 65+</th>\n",
       "      <td>0.255762</td>\n",
       "      <td>0.144187</td>\n",
       "      <td>-0.346317</td>\n",
       "      <td>1.000000</td>\n",
       "    </tr>\n",
       "  </tbody>\n",
       "</table>\n",
       "</div>"
      ],
      "text/plain": [
       "                  % Change Mar Sep  % Change Oct Dec  IMD Scores     % 65+\n",
       "% Change Mar Sep          1.000000          0.613092   -0.181813  0.255762\n",
       "% Change Oct Dec          0.613092          1.000000   -0.341696  0.144187\n",
       "IMD Scores               -0.181813         -0.341696    1.000000 -0.346317\n",
       "% 65+                     0.255762          0.144187   -0.346317  1.000000"
      ]
     },
     "execution_count": 55,
     "metadata": {},
     "output_type": "execute_result"
    }
   ],
   "source": [
    "CCG.corr()"
   ]
  },
  {
   "cell_type": "markdown",
   "metadata": {},
   "source": [
    "### Have GP attendances dropped by age groups over 65, excluding urgent appointments?\n",
    "Per the scatter plot and Pearson's correlation coefficients, there seems to be a low correlation between age 65+ and reduction in GP attendances in Mar-Sep where CCGs with greater % of 65+ saw less reduction. "
   ]
  }
 ],
 "metadata": {
  "kernelspec": {
   "display_name": "Python 3",
   "language": "python",
   "name": "python3"
  },
  "language_info": {
   "codemirror_mode": {
    "name": "ipython",
    "version": 3
   },
   "file_extension": ".py",
   "mimetype": "text/x-python",
   "name": "python",
   "nbconvert_exporter": "python",
   "pygments_lexer": "ipython3",
   "version": "3.8.5"
  }
 },
 "nbformat": 4,
 "nbformat_minor": 4
}
